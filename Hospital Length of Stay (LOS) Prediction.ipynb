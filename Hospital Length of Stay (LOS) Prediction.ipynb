{
  "cells": [
    {
      "cell_type": "markdown",
      "metadata": {
        "id": "QmmAY9ANJdiZ"
      },
      "source": [
        "# **Hospital Length of Stay (LOS) Prediction**\n"
      ]
    },
    {
      "cell_type": "markdown",
      "metadata": {
        "id": "pG7RImq5Jnzy"
      },
      "source": [
        "## **Context:**\n",
        "\n",
        "Hospital management is an area that has gained a lot of attention, especially recently during the COVID-19 pandemic. Inefficient distribution of resources like beds and ventilators might lead to a lot of complications. However, this can be mitigated by **predicting the length of stay (LOS) of a patient before getting admitted**. Once this is determined, the hospital can allocate a suitable amount of staff and resources to be planned in accordance with that.\n",
        "\n",
        "HealthPlus Hospital has been incurring a lot of losses in revenue and life due to its inefficient hospital management system. They have been unsuccessful in allocating beds, equipment and hospital staff in an efficient manner. \n",
        "\n",
        "**A machine learning system that could estimate the length of stay (LOS) of an incoming patient would help solve this problem for hospital management to a great extent.**"
      ]
    },
    {
      "cell_type": "markdown",
      "metadata": {
        "id": "jDFFGBh5JuM_"
      },
      "source": [
        "## **Objective:**\n",
        "\n",
        "As a Data Scientist, you have been hired by HealthPlus to analyze their data, find out **what factors affect the LOS the most and come up with a machine learning model which can predict the LOS of a patient** using the data available during admission and after running a few tests. You will also need to **bring about useful business insights from the data that can potentially help the hospital improve their health care infrastructure planning and subsequent revenue.**"
      ]
    },
    {
      "cell_type": "markdown",
      "metadata": {
        "id": "BY6qQyYnn4av"
      },
      "source": [
        "## **Data Dictionary:**\n",
        "\n",
        "The dataset contains various informative features recorded during the time of admission of the patient. \n",
        "\n",
        "The detailed data dictionary is given below:\n",
        "\n",
        "\n",
        "* **patientid**: Patient ID\n",
        "* **Age**: Range of age of the patient\n",
        "* **gender**: Gender of the patient\n",
        "* **Type of Admission**: Trauma, emergency or urgent\n",
        "* **Severity of Illness**: Extreme, moderate, or minor\n",
        "* **health_condition**s: Any previous health conditions suffered by the patient\n",
        "* **Visitors with Patient**: The number of patients who accompany the patient\n",
        "* **Insurance**: Does the patient have health insurance or not?\n",
        "* **Admission_Deposit**: The deposit paid by the patient during admission\n",
        "* **Stay (in days)**: The number of days that the patient has stayed in the hospital. This is the **target variable.**\n",
        "* **Available Extra Rooms in Hospital**: The number of rooms available during admission\n",
        "* **Department**: The department which will be treating the patient\n",
        "* **Ward_Facility_Code**: The code of the ward facility in which the patient will be admitted\n",
        "* **doctor_name**: The doctor who will be treating the patient\n",
        "* **staff_available**: The number of staff who are not occupied at the moment in the ward"
      ]
    },
    {
      "cell_type": "markdown",
      "metadata": {
        "id": "1HwCLXEdleNm"
      },
      "source": [
        "## **Approach to solve the problem:**\n",
        "\n",
        "1. Import the necessary libraries.\n",
        "2. Read the dataset and get an overview.\n",
        "3. Exploratory data analysis. a) Univariate b) Bivariate.\n",
        "4. Data preprocessing if any.\n",
        "5. Define the performance metric and build ML models.\n",
        "6. Compare models and determine the best one.\n",
        "7. Observations and business insights."
      ]
    },
    {
      "cell_type": "markdown",
      "metadata": {
        "id": "vh6pbSWLJ7pT"
      },
      "source": [
        "## **Importing the required Libraries**"
      ]
    },
    {
      "cell_type": "code",
      "execution_count": null,
      "metadata": {
        "id": "tu98q-R-KFfP"
      },
      "outputs": [],
      "source": [
        "import pandas as pd\n",
        "import numpy as np\n",
        "import matplotlib.pyplot as plt\n",
        "import seaborn as sns\n",
        "\n",
        "import warnings\n",
        "warnings.filterwarnings(\"ignore\")\n",
        "\n",
        "# Removes the limit for the number of displayed columns\n",
        "pd.set_option(\"display.max_columns\", None)\n",
        "\n",
        "# Sets the limit for the number of displayed rows\n",
        "pd.set_option(\"display.max_rows\", 200)\n",
        "\n",
        "# To build models for prediction\n",
        "from sklearn.model_selection import train_test_split, cross_val_score, KFold\n",
        "\n",
        "from sklearn.tree import DecisionTreeRegressor\n",
        "from sklearn.ensemble import RandomForestRegressor,BaggingRegressor\n",
        "\n",
        "from sklearn.preprocessing import LabelEncoder\n",
        "\n",
        "# For tuning the model\n",
        "from sklearn.model_selection import GridSearchCV\n",
        "\n",
        "# To check model performance\n",
        "from sklearn.metrics import make_scorer,mean_squared_error, r2_score, mean_absolute_error"
      ]
    },
    {
      "cell_type": "code",
      "execution_count": null,
      "metadata": {
        "id": "VvautAjCU6Im"
      },
      "outputs": [],
      "source": [
        "# Read the healthcare dataset file\n",
        "data=pd.read_csv(\"healthcare_data.csv\")"
      ]
    },
    {
      "cell_type": "code",
      "execution_count": null,
      "metadata": {
        "id": "HAW7LbQGDzc_"
      },
      "outputs": [],
      "source": [
        "# Copying data to another variable to avoid any changes to original data\n",
        "same_data = data.copy()"
      ]
    },
    {
      "cell_type": "markdown",
      "metadata": {
        "id": "uUEuNqtbPVT0"
      },
      "source": [
        "## **Data Overview**"
      ]
    },
    {
      "cell_type": "code",
      "execution_count": null,
      "metadata": {
        "colab": {
          "base_uri": "https://localhost:8080/",
          "height": 409
        },
        "id": "1WBP3qyFFlAM",
        "outputId": "f233188b-ab5c-4a17-9eb8-d6bd9c803186"
      },
      "outputs": [
        {
          "data": {
            "text/html": [
              "<div>\n",
              "<style scoped>\n",
              "    .dataframe tbody tr th:only-of-type {\n",
              "        vertical-align: middle;\n",
              "    }\n",
              "\n",
              "    .dataframe tbody tr th {\n",
              "        vertical-align: top;\n",
              "    }\n",
              "\n",
              "    .dataframe thead th {\n",
              "        text-align: right;\n",
              "    }\n",
              "</style>\n",
              "<table border=\"1\" class=\"dataframe\">\n",
              "  <thead>\n",
              "    <tr style=\"text-align: right;\">\n",
              "      <th></th>\n",
              "      <th>Available Extra Rooms in Hospital</th>\n",
              "      <th>Department</th>\n",
              "      <th>Ward_Facility_Code</th>\n",
              "      <th>doctor_name</th>\n",
              "      <th>staff_available</th>\n",
              "      <th>patientid</th>\n",
              "      <th>Age</th>\n",
              "      <th>gender</th>\n",
              "      <th>Type of Admission</th>\n",
              "      <th>Severity of Illness</th>\n",
              "      <th>health_conditions</th>\n",
              "      <th>Visitors with Patient</th>\n",
              "      <th>Insurance</th>\n",
              "      <th>Admission_Deposit</th>\n",
              "      <th>Stay (in days)</th>\n",
              "    </tr>\n",
              "  </thead>\n",
              "  <tbody>\n",
              "    <tr>\n",
              "      <th>0</th>\n",
              "      <td>4</td>\n",
              "      <td>gynecology</td>\n",
              "      <td>D</td>\n",
              "      <td>Dr Sophia</td>\n",
              "      <td>0</td>\n",
              "      <td>33070</td>\n",
              "      <td>41-50</td>\n",
              "      <td>Female</td>\n",
              "      <td>Trauma</td>\n",
              "      <td>Extreme</td>\n",
              "      <td>Diabetes</td>\n",
              "      <td>4</td>\n",
              "      <td>Yes</td>\n",
              "      <td>2966.408696</td>\n",
              "      <td>8</td>\n",
              "    </tr>\n",
              "    <tr>\n",
              "      <th>1</th>\n",
              "      <td>4</td>\n",
              "      <td>gynecology</td>\n",
              "      <td>B</td>\n",
              "      <td>Dr Sophia</td>\n",
              "      <td>2</td>\n",
              "      <td>34808</td>\n",
              "      <td>31-40</td>\n",
              "      <td>Female</td>\n",
              "      <td>Trauma</td>\n",
              "      <td>Minor</td>\n",
              "      <td>Heart disease</td>\n",
              "      <td>2</td>\n",
              "      <td>No</td>\n",
              "      <td>3554.835677</td>\n",
              "      <td>9</td>\n",
              "    </tr>\n",
              "    <tr>\n",
              "      <th>2</th>\n",
              "      <td>2</td>\n",
              "      <td>gynecology</td>\n",
              "      <td>B</td>\n",
              "      <td>Dr Sophia</td>\n",
              "      <td>8</td>\n",
              "      <td>44577</td>\n",
              "      <td>21-30</td>\n",
              "      <td>Female</td>\n",
              "      <td>Trauma</td>\n",
              "      <td>Extreme</td>\n",
              "      <td>Diabetes</td>\n",
              "      <td>2</td>\n",
              "      <td>Yes</td>\n",
              "      <td>5624.733654</td>\n",
              "      <td>7</td>\n",
              "    </tr>\n",
              "    <tr>\n",
              "      <th>3</th>\n",
              "      <td>4</td>\n",
              "      <td>gynecology</td>\n",
              "      <td>D</td>\n",
              "      <td>Dr Olivia</td>\n",
              "      <td>7</td>\n",
              "      <td>3695</td>\n",
              "      <td>31-40</td>\n",
              "      <td>Female</td>\n",
              "      <td>Urgent</td>\n",
              "      <td>Moderate</td>\n",
              "      <td>None</td>\n",
              "      <td>4</td>\n",
              "      <td>No</td>\n",
              "      <td>4814.149231</td>\n",
              "      <td>8</td>\n",
              "    </tr>\n",
              "    <tr>\n",
              "      <th>4</th>\n",
              "      <td>2</td>\n",
              "      <td>anesthesia</td>\n",
              "      <td>E</td>\n",
              "      <td>Dr Mark</td>\n",
              "      <td>10</td>\n",
              "      <td>108956</td>\n",
              "      <td>71-80</td>\n",
              "      <td>Male</td>\n",
              "      <td>Trauma</td>\n",
              "      <td>Moderate</td>\n",
              "      <td>Diabetes</td>\n",
              "      <td>2</td>\n",
              "      <td>No</td>\n",
              "      <td>5169.269637</td>\n",
              "      <td>34</td>\n",
              "    </tr>\n",
              "  </tbody>\n",
              "</table>\n",
              "</div>"
            ],
            "text/plain": [
              "   Available Extra Rooms in Hospital  Department Ward_Facility_Code  \\\n",
              "0                                  4  gynecology                  D   \n",
              "1                                  4  gynecology                  B   \n",
              "2                                  2  gynecology                  B   \n",
              "3                                  4  gynecology                  D   \n",
              "4                                  2  anesthesia                  E   \n",
              "\n",
              "  doctor_name  staff_available  patientid    Age  gender Type of Admission  \\\n",
              "0   Dr Sophia                0      33070  41-50  Female            Trauma   \n",
              "1   Dr Sophia                2      34808  31-40  Female            Trauma   \n",
              "2   Dr Sophia                8      44577  21-30  Female            Trauma   \n",
              "3   Dr Olivia                7       3695  31-40  Female            Urgent   \n",
              "4     Dr Mark               10     108956  71-80    Male            Trauma   \n",
              "\n",
              "  Severity of Illness health_conditions  Visitors with Patient Insurance  \\\n",
              "0             Extreme          Diabetes                      4       Yes   \n",
              "1               Minor     Heart disease                      2        No   \n",
              "2             Extreme          Diabetes                      2       Yes   \n",
              "3            Moderate              None                      4        No   \n",
              "4            Moderate          Diabetes                      2        No   \n",
              "\n",
              "   Admission_Deposit  Stay (in days)  \n",
              "0        2966.408696               8  \n",
              "1        3554.835677               9  \n",
              "2        5624.733654               7  \n",
              "3        4814.149231               8  \n",
              "4        5169.269637              34  "
            ]
          },
          "execution_count": 4,
          "metadata": {},
          "output_type": "execute_result"
        }
      ],
      "source": [
        "# View the first 5 rows of the dataset\n",
        "data.head()"
      ]
    },
    {
      "cell_type": "code",
      "execution_count": null,
      "metadata": {
        "colab": {
          "base_uri": "https://localhost:8080/",
          "height": 409
        },
        "id": "G-JcE75QFv6o",
        "outputId": "7b500d5a-6148-4cef-b87d-8c0c89cbd734"
      },
      "outputs": [
        {
          "data": {
            "text/html": [
              "<div>\n",
              "<style scoped>\n",
              "    .dataframe tbody tr th:only-of-type {\n",
              "        vertical-align: middle;\n",
              "    }\n",
              "\n",
              "    .dataframe tbody tr th {\n",
              "        vertical-align: top;\n",
              "    }\n",
              "\n",
              "    .dataframe thead th {\n",
              "        text-align: right;\n",
              "    }\n",
              "</style>\n",
              "<table border=\"1\" class=\"dataframe\">\n",
              "  <thead>\n",
              "    <tr style=\"text-align: right;\">\n",
              "      <th></th>\n",
              "      <th>Available Extra Rooms in Hospital</th>\n",
              "      <th>Department</th>\n",
              "      <th>Ward_Facility_Code</th>\n",
              "      <th>doctor_name</th>\n",
              "      <th>staff_available</th>\n",
              "      <th>patientid</th>\n",
              "      <th>Age</th>\n",
              "      <th>gender</th>\n",
              "      <th>Type of Admission</th>\n",
              "      <th>Severity of Illness</th>\n",
              "      <th>health_conditions</th>\n",
              "      <th>Visitors with Patient</th>\n",
              "      <th>Insurance</th>\n",
              "      <th>Admission_Deposit</th>\n",
              "      <th>Stay (in days)</th>\n",
              "    </tr>\n",
              "  </thead>\n",
              "  <tbody>\n",
              "    <tr>\n",
              "      <th>499995</th>\n",
              "      <td>4</td>\n",
              "      <td>gynecology</td>\n",
              "      <td>F</td>\n",
              "      <td>Dr Sarah</td>\n",
              "      <td>2</td>\n",
              "      <td>43001</td>\n",
              "      <td>11-20</td>\n",
              "      <td>Female</td>\n",
              "      <td>Trauma</td>\n",
              "      <td>Minor</td>\n",
              "      <td>High Blood Pressure</td>\n",
              "      <td>3</td>\n",
              "      <td>No</td>\n",
              "      <td>4105.795901</td>\n",
              "      <td>10</td>\n",
              "    </tr>\n",
              "    <tr>\n",
              "      <th>499996</th>\n",
              "      <td>13</td>\n",
              "      <td>gynecology</td>\n",
              "      <td>F</td>\n",
              "      <td>Dr Olivia</td>\n",
              "      <td>8</td>\n",
              "      <td>85601</td>\n",
              "      <td>31-40</td>\n",
              "      <td>Female</td>\n",
              "      <td>Emergency</td>\n",
              "      <td>Moderate</td>\n",
              "      <td>Other</td>\n",
              "      <td>2</td>\n",
              "      <td>No</td>\n",
              "      <td>4631.550257</td>\n",
              "      <td>11</td>\n",
              "    </tr>\n",
              "    <tr>\n",
              "      <th>499997</th>\n",
              "      <td>2</td>\n",
              "      <td>gynecology</td>\n",
              "      <td>B</td>\n",
              "      <td>Dr Sarah</td>\n",
              "      <td>3</td>\n",
              "      <td>22447</td>\n",
              "      <td>11-20</td>\n",
              "      <td>Female</td>\n",
              "      <td>Emergency</td>\n",
              "      <td>Moderate</td>\n",
              "      <td>High Blood Pressure</td>\n",
              "      <td>2</td>\n",
              "      <td>No</td>\n",
              "      <td>5456.930075</td>\n",
              "      <td>8</td>\n",
              "    </tr>\n",
              "    <tr>\n",
              "      <th>499998</th>\n",
              "      <td>2</td>\n",
              "      <td>radiotherapy</td>\n",
              "      <td>A</td>\n",
              "      <td>Dr John</td>\n",
              "      <td>1</td>\n",
              "      <td>29957</td>\n",
              "      <td>61-70</td>\n",
              "      <td>Female</td>\n",
              "      <td>Trauma</td>\n",
              "      <td>Extreme</td>\n",
              "      <td>Diabetes</td>\n",
              "      <td>2</td>\n",
              "      <td>No</td>\n",
              "      <td>4694.127772</td>\n",
              "      <td>23</td>\n",
              "    </tr>\n",
              "    <tr>\n",
              "      <th>499999</th>\n",
              "      <td>3</td>\n",
              "      <td>gynecology</td>\n",
              "      <td>F</td>\n",
              "      <td>Dr Sophia</td>\n",
              "      <td>3</td>\n",
              "      <td>45008</td>\n",
              "      <td>41-50</td>\n",
              "      <td>Female</td>\n",
              "      <td>Trauma</td>\n",
              "      <td>Moderate</td>\n",
              "      <td>Heart disease</td>\n",
              "      <td>4</td>\n",
              "      <td>Yes</td>\n",
              "      <td>4713.868519</td>\n",
              "      <td>10</td>\n",
              "    </tr>\n",
              "  </tbody>\n",
              "</table>\n",
              "</div>"
            ],
            "text/plain": [
              "        Available Extra Rooms in Hospital    Department Ward_Facility_Code  \\\n",
              "499995                                  4    gynecology                  F   \n",
              "499996                                 13    gynecology                  F   \n",
              "499997                                  2    gynecology                  B   \n",
              "499998                                  2  radiotherapy                  A   \n",
              "499999                                  3    gynecology                  F   \n",
              "\n",
              "       doctor_name  staff_available  patientid    Age  gender  \\\n",
              "499995    Dr Sarah                2      43001  11-20  Female   \n",
              "499996   Dr Olivia                8      85601  31-40  Female   \n",
              "499997    Dr Sarah                3      22447  11-20  Female   \n",
              "499998     Dr John                1      29957  61-70  Female   \n",
              "499999   Dr Sophia                3      45008  41-50  Female   \n",
              "\n",
              "       Type of Admission Severity of Illness    health_conditions  \\\n",
              "499995            Trauma               Minor  High Blood Pressure   \n",
              "499996         Emergency            Moderate                Other   \n",
              "499997         Emergency            Moderate  High Blood Pressure   \n",
              "499998            Trauma             Extreme             Diabetes   \n",
              "499999            Trauma            Moderate        Heart disease   \n",
              "\n",
              "        Visitors with Patient Insurance  Admission_Deposit  Stay (in days)  \n",
              "499995                      3        No        4105.795901              10  \n",
              "499996                      2        No        4631.550257              11  \n",
              "499997                      2        No        5456.930075               8  \n",
              "499998                      2        No        4694.127772              23  \n",
              "499999                      4       Yes        4713.868519              10  "
            ]
          },
          "execution_count": 5,
          "metadata": {},
          "output_type": "execute_result"
        }
      ],
      "source": [
        "# View the last 5 rows of the dataset\n",
        "data.tail()"
      ]
    },
    {
      "cell_type": "code",
      "execution_count": null,
      "metadata": {
        "colab": {
          "base_uri": "https://localhost:8080/"
        },
        "id": "oh0JY34cdYHB",
        "outputId": "d2de5b2e-8111-4923-a67f-47ef67b1625b"
      },
      "outputs": [
        {
          "data": {
            "text/plain": [
              "(500000, 15)"
            ]
          },
          "execution_count": 6,
          "metadata": {},
          "output_type": "execute_result"
        }
      ],
      "source": [
        "# Understanding the shape of the data\n",
        "data.shape"
      ]
    },
    {
      "cell_type": "markdown",
      "metadata": {
        "id": "JKUvaKzkdjUc"
      },
      "source": [
        "- The dataset has **5,00,000 rows and 15 columns**"
      ]
    },
    {
      "cell_type": "code",
      "execution_count": null,
      "metadata": {
        "colab": {
          "base_uri": "https://localhost:8080/"
        },
        "id": "shfF1UM7Ke5E",
        "outputId": "f1225a56-a510-47f8-f23a-c21ca62aa8ce"
      },
      "outputs": [
        {
          "name": "stdout",
          "output_type": "stream",
          "text": [
            "<class 'pandas.core.frame.DataFrame'>\n",
            "RangeIndex: 500000 entries, 0 to 499999\n",
            "Data columns (total 15 columns):\n",
            " #   Column                             Non-Null Count   Dtype  \n",
            "---  ------                             --------------   -----  \n",
            " 0   Available Extra Rooms in Hospital  500000 non-null  int64  \n",
            " 1   Department                         500000 non-null  object \n",
            " 2   Ward_Facility_Code                 500000 non-null  object \n",
            " 3   doctor_name                        500000 non-null  object \n",
            " 4   staff_available                    500000 non-null  int64  \n",
            " 5   patientid                          500000 non-null  int64  \n",
            " 6   Age                                500000 non-null  object \n",
            " 7   gender                             500000 non-null  object \n",
            " 8   Type of Admission                  500000 non-null  object \n",
            " 9   Severity of Illness                500000 non-null  object \n",
            " 10  health_conditions                  500000 non-null  object \n",
            " 11  Visitors with Patient              500000 non-null  int64  \n",
            " 12  Insurance                          500000 non-null  object \n",
            " 13  Admission_Deposit                  500000 non-null  float64\n",
            " 14  Stay (in days)                     500000 non-null  int64  \n",
            "dtypes: float64(1), int64(5), object(9)\n",
            "memory usage: 57.2+ MB\n"
          ]
        }
      ],
      "source": [
        "# Checking the info of the data\n",
        "data.info()"
      ]
    },
    {
      "cell_type": "markdown",
      "metadata": {
        "id": "1LQeBs4sPHNK"
      },
      "source": [
        "**Observations:**\n",
        "\n",
        "-  Available Extra Rooms in Hospital , staff_available, patientid, Visitors with Patient, Admission_Deposit, and Stay (in days) are the variables of the **numeric data type**. The rest of the columns are of the **object data type**.\n",
        "- The number of non-null values is the same as the total number of entries in the data i.e. **there are no null values.**\n",
        "- The column **patientid** is an identifier for patients in the data. "
      ]
    },
    {
      "cell_type": "code",
      "execution_count": null,
      "metadata": {
        "colab": {
          "base_uri": "https://localhost:8080/"
        },
        "id": "z73h7AF9r1PM",
        "outputId": "f0303525-8dc6-4048-a052-95be255b9075"
      },
      "outputs": [
        {
          "data": {
            "text/plain": [
              "0"
            ]
          },
          "execution_count": 8,
          "metadata": {},
          "output_type": "execute_result"
        }
      ],
      "source": [
        "# Checking for duplicate values in the Data\n",
        "data.duplicated().sum()"
      ]
    },
    {
      "cell_type": "markdown",
      "metadata": {
        "id": "kp4_mcJjP3LE"
      },
      "source": [
        "**Observations:** \n",
        "- The data has unique rows only, and no duplicate entries. There is no need to remove any rows."
      ]
    },
    {
      "cell_type": "code",
      "execution_count": null,
      "metadata": {
        "colab": {
          "base_uri": "https://localhost:8080/"
        },
        "id": "z5Xba7tEO9KE",
        "outputId": "14a6ec9c-7e0a-41b3-ed88-c55c88623503"
      },
      "outputs": [
        {
          "data": {
            "text/plain": [
              "126719    21\n",
              "125695    21\n",
              "44572     21\n",
              "126623    21\n",
              "125625    19\n",
              "          ..\n",
              "37634      1\n",
              "91436      1\n",
              "118936     1\n",
              "52366      1\n",
              "105506     1\n",
              "Name: patientid, Length: 126399, dtype: int64"
            ]
          },
          "execution_count": 9,
          "metadata": {},
          "output_type": "execute_result"
        }
      ],
      "source": [
        "# To view patientid and the number of times they have visited the hospital\n",
        "data['patientid'].value_counts()"
      ]
    },
    {
      "cell_type": "markdown",
      "metadata": {
        "id": "4pgZWSL-1vS5"
      },
      "source": [
        "**Observations:**\n",
        "- **The maximum number of times the same patient was admitted to the hospital is 21, and minimum is 1.**"
      ]
    },
    {
      "cell_type": "code",
      "execution_count": null,
      "metadata": {
        "colab": {
          "base_uri": "https://localhost:8080/",
          "height": 237
        },
        "id": "QIvXLbuuSuEE",
        "outputId": "db5fb1e5-cfef-49e5-c117-3cd55697904f"
      },
      "outputs": [
        {
          "data": {
            "text/html": [
              "<div>\n",
              "<style scoped>\n",
              "    .dataframe tbody tr th:only-of-type {\n",
              "        vertical-align: middle;\n",
              "    }\n",
              "\n",
              "    .dataframe tbody tr th {\n",
              "        vertical-align: top;\n",
              "    }\n",
              "\n",
              "    .dataframe thead th {\n",
              "        text-align: right;\n",
              "    }\n",
              "</style>\n",
              "<table border=\"1\" class=\"dataframe\">\n",
              "  <thead>\n",
              "    <tr style=\"text-align: right;\">\n",
              "      <th></th>\n",
              "      <th>count</th>\n",
              "      <th>mean</th>\n",
              "      <th>std</th>\n",
              "      <th>min</th>\n",
              "      <th>25%</th>\n",
              "      <th>50%</th>\n",
              "      <th>75%</th>\n",
              "      <th>max</th>\n",
              "    </tr>\n",
              "  </thead>\n",
              "  <tbody>\n",
              "    <tr>\n",
              "      <th>Available Extra Rooms in Hospital</th>\n",
              "      <td>500000.0</td>\n",
              "      <td>3.638800</td>\n",
              "      <td>2.698124</td>\n",
              "      <td>0.000000</td>\n",
              "      <td>2.000000</td>\n",
              "      <td>3.000000</td>\n",
              "      <td>4.000000</td>\n",
              "      <td>24.00000</td>\n",
              "    </tr>\n",
              "    <tr>\n",
              "      <th>staff_available</th>\n",
              "      <td>500000.0</td>\n",
              "      <td>5.020470</td>\n",
              "      <td>3.158103</td>\n",
              "      <td>0.000000</td>\n",
              "      <td>2.000000</td>\n",
              "      <td>5.000000</td>\n",
              "      <td>8.000000</td>\n",
              "      <td>10.00000</td>\n",
              "    </tr>\n",
              "    <tr>\n",
              "      <th>patientid</th>\n",
              "      <td>500000.0</td>\n",
              "      <td>63150.519058</td>\n",
              "      <td>41689.479956</td>\n",
              "      <td>-3269.000000</td>\n",
              "      <td>25442.000000</td>\n",
              "      <td>57864.000000</td>\n",
              "      <td>103392.000000</td>\n",
              "      <td>134400.00000</td>\n",
              "    </tr>\n",
              "    <tr>\n",
              "      <th>Visitors with Patient</th>\n",
              "      <td>500000.0</td>\n",
              "      <td>3.549414</td>\n",
              "      <td>2.241054</td>\n",
              "      <td>0.000000</td>\n",
              "      <td>2.000000</td>\n",
              "      <td>3.000000</td>\n",
              "      <td>4.000000</td>\n",
              "      <td>32.00000</td>\n",
              "    </tr>\n",
              "    <tr>\n",
              "      <th>Admission_Deposit</th>\n",
              "      <td>500000.0</td>\n",
              "      <td>4722.315734</td>\n",
              "      <td>1047.324220</td>\n",
              "      <td>1654.005148</td>\n",
              "      <td>4071.714532</td>\n",
              "      <td>4627.003792</td>\n",
              "      <td>5091.612717</td>\n",
              "      <td>10104.72639</td>\n",
              "    </tr>\n",
              "    <tr>\n",
              "      <th>Stay (in days)</th>\n",
              "      <td>500000.0</td>\n",
              "      <td>12.381062</td>\n",
              "      <td>7.913174</td>\n",
              "      <td>3.000000</td>\n",
              "      <td>8.000000</td>\n",
              "      <td>9.000000</td>\n",
              "      <td>11.000000</td>\n",
              "      <td>51.00000</td>\n",
              "    </tr>\n",
              "  </tbody>\n",
              "</table>\n",
              "</div>"
            ],
            "text/plain": [
              "                                      count          mean           std  \\\n",
              "Available Extra Rooms in Hospital  500000.0      3.638800      2.698124   \n",
              "staff_available                    500000.0      5.020470      3.158103   \n",
              "patientid                          500000.0  63150.519058  41689.479956   \n",
              "Visitors with Patient              500000.0      3.549414      2.241054   \n",
              "Admission_Deposit                  500000.0   4722.315734   1047.324220   \n",
              "Stay (in days)                     500000.0     12.381062      7.913174   \n",
              "\n",
              "                                           min           25%           50%  \\\n",
              "Available Extra Rooms in Hospital     0.000000      2.000000      3.000000   \n",
              "staff_available                       0.000000      2.000000      5.000000   \n",
              "patientid                         -3269.000000  25442.000000  57864.000000   \n",
              "Visitors with Patient                 0.000000      2.000000      3.000000   \n",
              "Admission_Deposit                  1654.005148   4071.714532   4627.003792   \n",
              "Stay (in days)                        3.000000      8.000000      9.000000   \n",
              "\n",
              "                                             75%           max  \n",
              "Available Extra Rooms in Hospital       4.000000      24.00000  \n",
              "staff_available                         8.000000      10.00000  \n",
              "patientid                          103392.000000  134400.00000  \n",
              "Visitors with Patient                   4.000000      32.00000  \n",
              "Admission_Deposit                    5091.612717   10104.72639  \n",
              "Stay (in days)                         11.000000      51.00000  "
            ]
          },
          "execution_count": 11,
          "metadata": {},
          "output_type": "execute_result"
        }
      ],
      "source": [
        "# Checking the descriptive statistics of the columns\n",
        "data.describe().T"
      ]
    },
    {
      "cell_type": "markdown",
      "metadata": {
        "id": "sTfliAV--0q5"
      },
      "source": [
        "**Observations :**\n",
        "\n",
        "* There are around **3 rooms available in the hospital on average** and there are times when the hospital is full and there are no rooms available. The **maximum number of rooms available in the hospital has been 24**.\n",
        "* **On average there are around 5 staff personnel available to treat the new patients** but it can also be zero at times. The maximum staff that has been available in the hospital is 10.\n",
        "* **On average around 3 visitors accompany the patient.** Some patients come on their own (minimum zero) and a few cases have even had 32 visitors. It would be interesting to see if there is any correlation between the number of visitors and the severity of the patient's condition.\n",
        "* **The average admission deposit is around 4722 dollars, and a minimum of 1654 dollars is paid on every admission.**\n",
        "* **Patient's stay** has a large range from 3 to 51 days. The median length of stay is 9 days, so there are clearly outliers in this variable's values.\n"
      ]
    },
    {
      "cell_type": "code",
      "execution_count": null,
      "metadata": {
        "colab": {
          "base_uri": "https://localhost:8080/"
        },
        "id": "wYe3XYCFS1ru",
        "outputId": "d3eddc68-0e27-4047-f17e-cdf9cb0ca90e"
      },
      "outputs": [
        {
          "name": "stdout",
          "output_type": "stream",
          "text": [
            "gynecology            0.686956\n",
            "radiotherapy          0.168630\n",
            "anesthesia            0.088358\n",
            "TB & Chest disease    0.045780\n",
            "surgery               0.010276\n",
            "Name: Department, dtype: float64\n",
            "--------------------------------------------------\n",
            "Trauma       0.621072\n",
            "Emergency    0.271568\n",
            "Urgent       0.107360\n",
            "Name: Type of Admission, dtype: float64\n",
            "--------------------------------------------------\n",
            "Moderate    0.560394\n",
            "Minor       0.263074\n",
            "Extreme     0.176532\n",
            "Name: Severity of Illness, dtype: float64\n",
            "--------------------------------------------------\n",
            "Female    0.74162\n",
            "Male      0.20696\n",
            "Other     0.05142\n",
            "Name: gender, dtype: float64\n",
            "--------------------------------------------------\n",
            "Yes    0.78592\n",
            "No     0.21408\n",
            "Name: Insurance, dtype: float64\n",
            "--------------------------------------------------\n",
            "None                   0.303776\n",
            "Other                  0.188822\n",
            "High Blood Pressure    0.158804\n",
            "Diabetes               0.147288\n",
            "Asthama                0.131028\n",
            "Heart disease          0.070282\n",
            "Name: health_conditions, dtype: float64\n",
            "--------------------------------------------------\n",
            "Dr Sarah     0.199192\n",
            "Dr Olivia    0.196704\n",
            "Dr Sophia    0.149506\n",
            "Dr Nathan    0.141554\n",
            "Dr Sam       0.111422\n",
            "Dr John      0.102526\n",
            "Dr Mark      0.088820\n",
            "Dr Isaac     0.006718\n",
            "Dr Simon     0.003558\n",
            "Name: doctor_name, dtype: float64\n",
            "--------------------------------------------------\n",
            "F    0.241076\n",
            "D    0.238110\n",
            "B    0.207770\n",
            "E    0.190748\n",
            "A    0.093102\n",
            "C    0.029194\n",
            "Name: Ward_Facility_Code, dtype: float64\n",
            "--------------------------------------------------\n",
            "21-30     0.319586\n",
            "31-40     0.266746\n",
            "41-50     0.160812\n",
            "11-20     0.093072\n",
            "61-70     0.053112\n",
            "51-60     0.043436\n",
            "71-80     0.037406\n",
            "81-90     0.016362\n",
            "0-10      0.006736\n",
            "91-100    0.002732\n",
            "Name: Age, dtype: float64\n",
            "--------------------------------------------------\n"
          ]
        }
      ],
      "source": [
        "# List of all important categorical variables\n",
        "cat_col = [\"Department\", \"Type of Admission\", 'Severity of Illness', 'gender', 'Insurance', 'health_conditions', 'doctor_name', \"Ward_Facility_Code\", \"Age\"]\n",
        "\n",
        "# Printing the number of occurrences of each unique value in each categorical column\n",
        "for column in cat_col:\n",
        "    print(data[column].value_counts(1))\n",
        "    print(\"-\" * 50)"
      ]
    },
    {
      "cell_type": "markdown",
      "metadata": {
        "id": "NSIXtFmtgeNJ"
      },
      "source": [
        "**Observations :**\n",
        "\n",
        "- **The majority of patients (~82%) are admitted to the hospital with moderate and minor illnesses**, which is understandable as those conditions tend to be more common than extreme illnesses.\n",
        "- The **Gynecology department gets the highest number of patients (~68%)** in the hospital, while the patients in the Surgery department are the smallest percentage (~1%) of overall patients.\n",
        "- **Ward A and C accommodate the least number of patients (~12%).** These might be wards reserved for patients with extreme illnesses or those who need surgery. It would be interesting to see if patients from these wards also stay for a longer duration.\n",
        "- **The majority of patients belong to the age group of 21-50 (\\~75%) and are women (~75%).** The high percentage of patients in the Gynecology department of the hospital makes sense in light of this.\n",
        "- **High Blood pressure and Diabetes** are the most common health conditions."
      ]
    },
    {
      "cell_type": "markdown",
      "metadata": {
        "id": "wTHU4IPogofK"
      },
      "source": [
        "## **Exploratory Data Analysis (EDA)**"
      ]
    },
    {
      "cell_type": "markdown",
      "metadata": {
        "id": "gU_-9VCyskuV"
      },
      "source": [
        "### **Univariate Analysis**"
      ]
    },
    {
      "cell_type": "code",
      "execution_count": null,
      "metadata": {
        "id": "3FXeuDBXU3Dv"
      },
      "outputs": [],
      "source": [
        "# Function to plot a boxplot and a histogram along the same scale.\n",
        "\n",
        "\n",
        "def histogram_boxplot(data, feature, figsize=(12, 7), kde=False, bins=None):\n",
        "    \"\"\"\n",
        "    Boxplot and histogram combined\n",
        "\n",
        "    data: dataframe\n",
        "    feature: dataframe column\n",
        "    figsize: size of figure (default (12,7))\n",
        "    kde: whether to the show density curve (default False)\n",
        "    bins: number of bins for histogram (default None)\n",
        "    \"\"\"\n",
        "    f2, (ax_box2, ax_hist2) = plt.subplots(\n",
        "        nrows=2,  # Number of rows of the subplot grid= 2\n",
        "        sharex=True,  # x-axis will be shared among all subplots\n",
        "        gridspec_kw={\"height_ratios\": (0.25, 0.75)},\n",
        "        figsize=figsize,\n",
        "    )  # creating the 2 subplots\n",
        "    sns.boxplot(\n",
        "        data=data, x=feature, ax=ax_box2, showmeans=True, color=\"violet\"\n",
        "    )  # boxplot will be created and a star will indicate the mean value of the column\n",
        "    sns.histplot(\n",
        "        data=data, x=feature, kde=kde, ax=ax_hist2, bins=bins, palette=\"winter\"\n",
        "    ) if bins else sns.histplot(\n",
        "        data=data, x=feature, kde=kde, ax=ax_hist2\n",
        "    )  # For histogram\n",
        "    ax_hist2.axvline(\n",
        "        data[feature].mean(), color=\"green\", linestyle=\"--\"\n",
        "    )  # Add mean to the histogram\n",
        "    ax_hist2.axvline(\n",
        "        data[feature].median(), color=\"black\", linestyle=\"-\"\n",
        "    )  # Add median to the histogram"
      ]
    },
    {
      "cell_type": "markdown",
      "metadata": {
        "id": "jeEmAqhGBlQ3"
      },
      "source": [
        "#### **Length of Stay (LOS)**"
      ]
    },
    {
      "cell_type": "code",
      "execution_count": null,
      "metadata": {
        "colab": {
          "base_uri": "https://localhost:8080/",
          "height": 442
        },
        "id": "eZavZx-IU47X",
        "outputId": "d39a1b79-3eb2-4e69-d6c9-c0d7a872f718"
      },
      "outputs": [
        {
          "data": {
            "image/png": "[encoded data removed]",
            "text/plain": [
              "<Figure size 864x504 with 2 Axes>"
            ]
          },
          "metadata": {
            "needs_background": "light"
          },
          "output_type": "display_data"
        }
      ],
      "source": [
        "histogram_boxplot(data, \"Stay (in days)\", kde=True, bins=30)"
      ]
    },
    {
      "cell_type": "markdown",
      "metadata": {
        "id": "0f59iZeHCE9m"
      },
      "source": [
        "**Observations:**\n",
        "\n",
        "- There are a **fewer number of patients staying for over 10 days in the hospital, and very few who stay for more than 40 days**. This might be because the majority of patients are admitted for moderate to minor illnesses. \n",
        "- The peak of the distribution shows that most patients stay for 8-9 days in the hospital."
      ]
    },
    {
      "cell_type": "markdown",
      "metadata": {
        "id": "zwYRba3GCmMR"
      },
      "source": [
        "#### **Admission Deposit**"
      ]
    },
    {
      "cell_type": "code",
      "execution_count": null,
      "metadata": {
        "colab": {
          "base_uri": "https://localhost:8080/",
          "height": 443
        },
        "id": "45-b0yudsw8V",
        "outputId": "c22440ee-f148-4cce-ddd7-91fe975ddfde"
      },
      "outputs": [
        {
          "data": {
            "image/png": "[encoded data removed]",
            "text/plain": [
              "<Figure size 864x504 with 2 Axes>"
            ]
          },
          "metadata": {
            "needs_background": "light"
          },
          "output_type": "display_data"
        }
      ],
      "source": [
        "histogram_boxplot(data, \"Admission_Deposit\", kde=True, bins=30)"
      ]
    },
    {
      "cell_type": "markdown",
      "metadata": {
        "id": "1iuWUHFtC40E"
      },
      "source": [
        "**Observations:**\n",
        "\n",
        "- The **distribution of the admission fees is close to normal with outliers on both sides**. There are a few patients paying a higher amount of admission fees and a few patients paying a lower amount of admission fees."
      ]
    },
    {
      "cell_type": "markdown",
      "metadata": {
        "id": "dnawqWwiDGAN"
      },
      "source": [
        "#### **Visitors with Patients**"
      ]
    },
    {
      "cell_type": "code",
      "execution_count": null,
      "metadata": {
        "colab": {
          "base_uri": "https://localhost:8080/",
          "height": 442
        },
        "id": "zaFuytims4mK",
        "outputId": "db4f7622-f25c-4341-c6fb-c3c101afc59a"
      },
      "outputs": [
        {
          "data": {
            "image/png": "[encoded data removed]",
            "text/plain": [
              "<Figure size 864x504 with 2 Axes>"
            ]
          },
          "metadata": {
            "needs_background": "light"
          },
          "output_type": "display_data"
        }
      ],
      "source": [
        "histogram_boxplot(data, \"Visitors with Patient\", kde=True, bins=30)"
      ]
    },
    {
      "cell_type": "markdown",
      "metadata": {
        "id": "YDwBBE2eDOxo"
      },
      "source": [
        "**Observations:**\n",
        "\n",
        "- The distribution of the number of visitors with the patient is **highly skewed towards the right**.\n",
        "- **2 and 4 are the most common number of visitors with the patients.**"
      ]
    },
    {
      "cell_type": "markdown",
      "metadata": {
        "id": "n5PnzTiBuJA5"
      },
      "source": [
        "### **Bivariate Analysis**"
      ]
    },
    {
      "cell_type": "code",
      "execution_count": null,
      "metadata": {
        "colab": {
          "base_uri": "https://localhost:8080/",
          "height": 607
        },
        "id": "ARmMlB5IO3UQ",
        "outputId": "51e8fe69-fd1f-48e7-aae6-e16b421bf2c9"
      },
      "outputs": [
        {
          "data": {
            "text/plain": [
              "<AxesSubplot:>"
            ]
          },
          "execution_count": 17,
          "metadata": {},
          "output_type": "execute_result"
        },
        {
          "data": {
            "image/png": "[encoded data removed]",
            "text/plain": [
              "<Figure size 1080x504 with 2 Axes>"
            ]
          },
          "metadata": {
            "needs_background": "light"
          },
          "output_type": "display_data"
        }
      ],
      "source": [
        "# Finding the correlation between various columns of the dataset\n",
        "import seaborn as sns\n",
        "import matplotlib.pyplot as plt\n",
        "plt.figure(figsize=(15,7))\n",
        "sns.heatmap(data.corr(), annot=True, vmin=-1, vmax=1, fmt=\".2f\",cmap=\"Spectral\")"
      ]
    },
    {
      "cell_type": "markdown",
      "metadata": {
        "id": "VXjMP0xgPHoW"
      },
      "source": [
        "**Observations:** \n",
        "- The heatmap shows that there is **no pairwise correlation between variables**.\n",
        "- The continuous variables show no correlation with the target variable (Stay in days) which indicates that the **categorical variables might be more important for this prediction.**"
      ]
    },
    {
      "cell_type": "code",
      "execution_count": null,
      "metadata": {
        "id": "TbM2637QiV0D"
      },
      "outputs": [],
      "source": [
        "# function to plot stacked bar plots\n",
        "\n",
        "\n",
        "def stacked_barplot(data, predictor, target):\n",
        "    \"\"\"\n",
        "    Print the category counts and plot a stacked bar chart\n",
        "\n",
        "    data: dataframe\n",
        "    predictor: independent variable\n",
        "    target: target variable\n",
        "    \"\"\"\n",
        "    count = data[predictor].nunique()\n",
        "    sorter = data[target].value_counts().index[-1]\n",
        "    tab1 = pd.crosstab(data[predictor], data[target], margins=True).sort_values(\n",
        "        by=sorter, ascending=False\n",
        "    )\n",
        "    print(tab1)\n",
        "    print(\"-\" * 120)\n",
        "    tab = pd.crosstab(data[predictor], data[target], normalize=\"index\").sort_values(\n",
        "        by=sorter, ascending=False\n",
        "    )\n",
        "    tab.plot(kind=\"bar\", stacked=True, figsize=(count + 1, 5))\n",
        "    plt.legend(\n",
        "        loc=\"lower left\",\n",
        "        frameon=False,\n",
        "    )\n",
        "    plt.legend(loc=\"upper left\", bbox_to_anchor=(1, 1))\n",
        "    plt.show()"
      ]
    },
    {
      "cell_type": "markdown",
      "metadata": {
        "id": "_7g781gtwOV2"
      },
      "source": [
        "**Let's start by checking the distribution of the LOS for the various wards**"
      ]
    },
    {
      "cell_type": "code",
      "execution_count": null,
      "metadata": {
        "colab": {
          "base_uri": "https://localhost:8080/",
          "height": 279
        },
        "id": "z3C3qUsTlIpK",
        "outputId": "f3232d19-74d1-454a-b379-53e116a67004"
      },
      "outputs": [
        {
          "data": {
            "image/png": "[encoded data removed]",
            "text/plain": [
              "<Figure size 432x288 with 1 Axes>"
            ]
          },
          "metadata": {
            "needs_background": "light"
          },
          "output_type": "display_data"
        }
      ],
      "source": [
        "sns.barplot(y = 'Ward_Facility_Code',x = 'Stay (in days)',data = data)\n",
        "plt.show()"
      ]
    },
    {
      "cell_type": "markdown",
      "metadata": {
        "id": "2ScD8h0FHRxX"
      },
      "source": [
        "**Observations:**\n",
        "\n",
        "- The hypothesis we made earlier is correct i.e. **Wards A and C seem to have the patients staying for the longest duration.**"
      ]
    },
    {
      "cell_type": "code",
      "execution_count": null,
      "metadata": {
        "colab": {
          "base_uri": "https://localhost:8080/",
          "height": 679
        },
        "id": "UH3lFpuU4I6B",
        "outputId": "d7fdbb71-9963-4cff-d828-7bf628c46918"
      },
      "outputs": [
        {
          "name": "stdout",
          "output_type": "stream",
          "text": [
            "Department          TB & Chest disease  anesthesia  gynecology  radiotherapy  \\\n",
            "Ward_Facility_Code                                                             \n",
            "A                                 4709       15611           0         21093   \n",
            "All                              22890       44179      343478         84315   \n",
            "B                                    0           0      103885             0   \n",
            "C                                 1319        4199           0          9079   \n",
            "D                                    0           0      119055             0   \n",
            "E                                16862       24369           0         54143   \n",
            "F                                    0           0      120538             0   \n",
            "\n",
            "Department          surgery     All  \n",
            "Ward_Facility_Code                   \n",
            "A                      5138   46551  \n",
            "All                    5138  500000  \n",
            "B                         0  103885  \n",
            "C                         0   14597  \n",
            "D                         0  119055  \n",
            "E                         0   95374  \n",
            "F                         0  120538  \n",
            "------------------------------------------------------------------------------------------------------------------------\n"
          ]
        },
        {
          "data": {
            "image/png": "[encoded data removed]",
            "text/plain": [
              "<Figure size 504x360 with 1 Axes>"
            ]
          },
          "metadata": {
            "needs_background": "light"
          },
          "output_type": "display_data"
        }
      ],
      "source": [
        "stacked_barplot(data, \"Ward_Facility_Code\", \"Department\")"
      ]
    },
    {
      "cell_type": "markdown",
      "metadata": {
        "id": "26J9ZLFC4WO7"
      },
      "source": [
        "**Observations:**\n",
        "\n",
        "- **Ward Facilities B, D and F are dedicated only to the gynecology department.**\n",
        "- Wards A, C, and E have patients with all the other diseases and patients undergoing surgery seem to be admitted in Ward A only."
      ]
    },
    {
      "cell_type": "markdown",
      "metadata": {
        "id": "So2J-eKbxLXE"
      },
      "source": [
        "**Usually, the more severe the illness, the more the LOS, let's check the distribution of severe patients in various wards**"
      ]
    },
    {
      "cell_type": "code",
      "execution_count": null,
      "metadata": {
        "colab": {
          "base_uri": "https://localhost:8080/",
          "height": 505
        },
        "id": "W-_Kr-34iXUp",
        "outputId": "a0d33096-00b3-417f-ca0e-de29671b1b70"
      },
      "outputs": [
        {
          "name": "stdout",
          "output_type": "stream",
          "text": [
            "Severity of Illness  Extreme   Minor  Moderate     All\n",
            "Ward_Facility_Code                                    \n",
            "All                    88266  131537    280197  500000\n",
            "D                      29549   27220     62286  119055\n",
            "B                      24222   23579     56084  103885\n",
            "A                      13662    7877     25012   46551\n",
            "E                      11488   22254     61632   95374\n",
            "F                       5842   47594     67102  120538\n",
            "C                       3503    3013      8081   14597\n",
            "------------------------------------------------------------------------------------------------------------------------\n"
          ]
        },
        {
          "data": {
            "image/png": "[encoded data removed]",
            "text/plain": [
              "<Figure size 504x360 with 1 Axes>"
            ]
          },
          "metadata": {
            "needs_background": "light"
          },
          "output_type": "display_data"
        }
      ],
      "source": [
        "stacked_barplot(data, \"Ward_Facility_Code\", \"Severity of Illness\")"
      ]
    },
    {
      "cell_type": "markdown",
      "metadata": {
        "id": "KiDH49bWIAJF"
      },
      "source": [
        "**Observations :**\n",
        "\n",
        "- Ward A has the most extreme case as well as the longest length of stay in the hospital. It might require more staff and resources in comparison to other wards.\n",
        "- Ward F has a large number of minor cases and Ward E has large number of moderate cases."
      ]
    },
    {
      "cell_type": "markdown",
      "metadata": {
        "id": "k4pmLBDiyJ4c"
      },
      "source": [
        "**Age can also be an important factor to find the length of stay. Let's check the same.**"
      ]
    },
    {
      "cell_type": "code",
      "execution_count": null,
      "metadata": {
        "colab": {
          "base_uri": "https://localhost:8080/",
          "height": 279
        },
        "id": "FmSuZ_18n7Ch",
        "outputId": "621049c4-af34-4c59-df52-f4c007e21aac"
      },
      "outputs": [
        {
          "data": {
            "image/png": "[encoded data removed]",
            "text/plain": [
              "<Figure size 432x288 with 1 Axes>"
            ]
          },
          "metadata": {
            "needs_background": "light"
          },
          "output_type": "display_data"
        }
      ],
      "source": [
        "sns.barplot(y = 'Age',x = 'Stay (in days)',data = data )\n",
        "plt.show()"
      ]
    },
    {
      "cell_type": "markdown",
      "metadata": {
        "id": "SsYpNHK2It36"
      },
      "source": [
        "**Observations:**\n",
        "\n",
        "- **Patients aged between 1-10 and 51-100 tend to stay the highest number of days in the hospital.** This might be because the majority of the patients between 21-50 age group seem to get admitted to the gynecology department and patients in age groups 1-10 and 5-100 might be getting admitted due to some other serious illness. "
      ]
    },
    {
      "cell_type": "markdown",
      "metadata": {
        "id": "fTjAF7lA2A9v"
      },
      "source": [
        "## **Data Preparation for Model Building**\n",
        "\n",
        "- Before we proceed to build a model, we'll have to encode categorical features.\n",
        "- We'll need to separate out the independent variables and dependent variable.\n",
        "- We'll split the data into train and test to be able to evaluate the model that we train on the training data."
      ]
    },
    {
      "cell_type": "code",
      "execution_count": null,
      "metadata": {
        "id": "R9sae8pN9cGT"
      },
      "outputs": [],
      "source": [
        "# Creating dummy variables for the categorical columns\n",
        "# drop_first=True is used to avoid redundant variables\n",
        "data = pd.get_dummies(\n",
        "    data,\n",
        "    columns=data.select_dtypes(include=[\"object\", \"category\"]).columns.tolist(),\n",
        "    drop_first=True,\n",
        ")"
      ]
    },
    {
      "cell_type": "code",
      "execution_count": null,
      "metadata": {
        "colab": {
          "base_uri": "https://localhost:8080/",
          "height": 539
        },
        "id": "Ri-VtxAj9fdT",
        "outputId": "0cd786de-e167-49a0-c23a-d1330ca03c03"
      },
      "outputs": [
        {
          "data": {
            "text/html": [
              "<div>\n",
              "<style scoped>\n",
              "    .dataframe tbody tr th:only-of-type {\n",
              "        vertical-align: middle;\n",
              "    }\n",
              "\n",
              "    .dataframe tbody tr th {\n",
              "        vertical-align: top;\n",
              "    }\n",
              "\n",
              "    .dataframe thead th {\n",
              "        text-align: right;\n",
              "    }\n",
              "</style>\n",
              "<table border=\"1\" class=\"dataframe\">\n",
              "  <thead>\n",
              "    <tr style=\"text-align: right;\">\n",
              "      <th></th>\n",
              "      <th>Available Extra Rooms in Hospital</th>\n",
              "      <th>staff_available</th>\n",
              "      <th>patientid</th>\n",
              "      <th>Visitors with Patient</th>\n",
              "      <th>Admission_Deposit</th>\n",
              "      <th>Stay (in days)</th>\n",
              "      <th>Department_anesthesia</th>\n",
              "      <th>Department_gynecology</th>\n",
              "      <th>Department_radiotherapy</th>\n",
              "      <th>Department_surgery</th>\n",
              "      <th>Ward_Facility_Code_B</th>\n",
              "      <th>Ward_Facility_Code_C</th>\n",
              "      <th>Ward_Facility_Code_D</th>\n",
              "      <th>Ward_Facility_Code_E</th>\n",
              "      <th>Ward_Facility_Code_F</th>\n",
              "      <th>doctor_name_Dr John</th>\n",
              "      <th>doctor_name_Dr Mark</th>\n",
              "      <th>doctor_name_Dr Nathan</th>\n",
              "      <th>doctor_name_Dr Olivia</th>\n",
              "      <th>doctor_name_Dr Sam</th>\n",
              "      <th>doctor_name_Dr Sarah</th>\n",
              "      <th>doctor_name_Dr Simon</th>\n",
              "      <th>doctor_name_Dr Sophia</th>\n",
              "      <th>Age_11-20</th>\n",
              "      <th>Age_21-30</th>\n",
              "      <th>Age_31-40</th>\n",
              "      <th>Age_41-50</th>\n",
              "      <th>Age_51-60</th>\n",
              "      <th>Age_61-70</th>\n",
              "      <th>Age_71-80</th>\n",
              "      <th>Age_81-90</th>\n",
              "      <th>Age_91-100</th>\n",
              "      <th>gender_Male</th>\n",
              "      <th>gender_Other</th>\n",
              "      <th>Type of Admission_Trauma</th>\n",
              "      <th>Type of Admission_Urgent</th>\n",
              "      <th>Severity of Illness_Minor</th>\n",
              "      <th>Severity of Illness_Moderate</th>\n",
              "      <th>health_conditions_Diabetes</th>\n",
              "      <th>health_conditions_Heart disease</th>\n",
              "      <th>health_conditions_High Blood Pressure</th>\n",
              "      <th>health_conditions_None</th>\n",
              "      <th>health_conditions_Other</th>\n",
              "      <th>Insurance_Yes</th>\n",
              "    </tr>\n",
              "  </thead>\n",
              "  <tbody>\n",
              "    <tr>\n",
              "      <th>0</th>\n",
              "      <td>4</td>\n",
              "      <td>0</td>\n",
              "      <td>33070</td>\n",
              "      <td>4</td>\n",
              "      <td>2966.408696</td>\n",
              "      <td>8</td>\n",
              "      <td>0</td>\n",
              "      <td>1</td>\n",
              "      <td>0</td>\n",
              "      <td>0</td>\n",
              "      <td>0</td>\n",
              "      <td>0</td>\n",
              "      <td>1</td>\n",
              "      <td>0</td>\n",
              "      <td>0</td>\n",
              "      <td>0</td>\n",
              "      <td>0</td>\n",
              "      <td>0</td>\n",
              "      <td>0</td>\n",
              "      <td>0</td>\n",
              "      <td>0</td>\n",
              "      <td>0</td>\n",
              "      <td>1</td>\n",
              "      <td>0</td>\n",
              "      <td>0</td>\n",
              "      <td>0</td>\n",
              "      <td>1</td>\n",
              "      <td>0</td>\n",
              "      <td>0</td>\n",
              "      <td>0</td>\n",
              "      <td>0</td>\n",
              "      <td>0</td>\n",
              "      <td>0</td>\n",
              "      <td>0</td>\n",
              "      <td>1</td>\n",
              "      <td>0</td>\n",
              "      <td>0</td>\n",
              "      <td>0</td>\n",
              "      <td>1</td>\n",
              "      <td>0</td>\n",
              "      <td>0</td>\n",
              "      <td>0</td>\n",
              "      <td>0</td>\n",
              "      <td>1</td>\n",
              "    </tr>\n",
              "    <tr>\n",
              "      <th>1</th>\n",
              "      <td>4</td>\n",
              "      <td>2</td>\n",
              "      <td>34808</td>\n",
              "      <td>2</td>\n",
              "      <td>3554.835677</td>\n",
              "      <td>9</td>\n",
              "      <td>0</td>\n",
              "      <td>1</td>\n",
              "      <td>0</td>\n",
              "      <td>0</td>\n",
              "      <td>1</td>\n",
              "      <td>0</td>\n",
              "      <td>0</td>\n",
              "      <td>0</td>\n",
              "      <td>0</td>\n",
              "      <td>0</td>\n",
              "      <td>0</td>\n",
              "      <td>0</td>\n",
              "      <td>0</td>\n",
              "      <td>0</td>\n",
              "      <td>0</td>\n",
              "      <td>0</td>\n",
              "      <td>1</td>\n",
              "      <td>0</td>\n",
              "      <td>0</td>\n",
              "      <td>1</td>\n",
              "      <td>0</td>\n",
              "      <td>0</td>\n",
              "      <td>0</td>\n",
              "      <td>0</td>\n",
              "      <td>0</td>\n",
              "      <td>0</td>\n",
              "      <td>0</td>\n",
              "      <td>0</td>\n",
              "      <td>1</td>\n",
              "      <td>0</td>\n",
              "      <td>1</td>\n",
              "      <td>0</td>\n",
              "      <td>0</td>\n",
              "      <td>1</td>\n",
              "      <td>0</td>\n",
              "      <td>0</td>\n",
              "      <td>0</td>\n",
              "      <td>0</td>\n",
              "    </tr>\n",
              "    <tr>\n",
              "      <th>2</th>\n",
              "      <td>2</td>\n",
              "      <td>8</td>\n",
              "      <td>44577</td>\n",
              "      <td>2</td>\n",
              "      <td>5624.733654</td>\n",
              "      <td>7</td>\n",
              "      <td>0</td>\n",
              "      <td>1</td>\n",
              "      <td>0</td>\n",
              "      <td>0</td>\n",
              "      <td>1</td>\n",
              "      <td>0</td>\n",
              "      <td>0</td>\n",
              "      <td>0</td>\n",
              "      <td>0</td>\n",
              "      <td>0</td>\n",
              "      <td>0</td>\n",
              "      <td>0</td>\n",
              "      <td>0</td>\n",
              "      <td>0</td>\n",
              "      <td>0</td>\n",
              "      <td>0</td>\n",
              "      <td>1</td>\n",
              "      <td>0</td>\n",
              "      <td>1</td>\n",
              "      <td>0</td>\n",
              "      <td>0</td>\n",
              "      <td>0</td>\n",
              "      <td>0</td>\n",
              "      <td>0</td>\n",
              "      <td>0</td>\n",
              "      <td>0</td>\n",
              "      <td>0</td>\n",
              "      <td>0</td>\n",
              "      <td>1</td>\n",
              "      <td>0</td>\n",
              "      <td>0</td>\n",
              "      <td>0</td>\n",
              "      <td>1</td>\n",
              "      <td>0</td>\n",
              "      <td>0</td>\n",
              "      <td>0</td>\n",
              "      <td>0</td>\n",
              "      <td>1</td>\n",
              "    </tr>\n",
              "    <tr>\n",
              "      <th>3</th>\n",
              "      <td>4</td>\n",
              "      <td>7</td>\n",
              "      <td>3695</td>\n",
              "      <td>4</td>\n",
              "      <td>4814.149231</td>\n",
              "      <td>8</td>\n",
              "      <td>0</td>\n",
              "      <td>1</td>\n",
              "      <td>0</td>\n",
              "      <td>0</td>\n",
              "      <td>0</td>\n",
              "      <td>0</td>\n",
              "      <td>1</td>\n",
              "      <td>0</td>\n",
              "      <td>0</td>\n",
              "      <td>0</td>\n",
              "      <td>0</td>\n",
              "      <td>0</td>\n",
              "      <td>1</td>\n",
              "      <td>0</td>\n",
              "      <td>0</td>\n",
              "      <td>0</td>\n",
              "      <td>0</td>\n",
              "      <td>0</td>\n",
              "      <td>0</td>\n",
              "      <td>1</td>\n",
              "      <td>0</td>\n",
              "      <td>0</td>\n",
              "      <td>0</td>\n",
              "      <td>0</td>\n",
              "      <td>0</td>\n",
              "      <td>0</td>\n",
              "      <td>0</td>\n",
              "      <td>0</td>\n",
              "      <td>0</td>\n",
              "      <td>1</td>\n",
              "      <td>0</td>\n",
              "      <td>1</td>\n",
              "      <td>0</td>\n",
              "      <td>0</td>\n",
              "      <td>0</td>\n",
              "      <td>1</td>\n",
              "      <td>0</td>\n",
              "      <td>0</td>\n",
              "    </tr>\n",
              "    <tr>\n",
              "      <th>4</th>\n",
              "      <td>2</td>\n",
              "      <td>10</td>\n",
              "      <td>108956</td>\n",
              "      <td>2</td>\n",
              "      <td>5169.269637</td>\n",
              "      <td>34</td>\n",
              "      <td>1</td>\n",
              "      <td>0</td>\n",
              "      <td>0</td>\n",
              "      <td>0</td>\n",
              "      <td>0</td>\n",
              "      <td>0</td>\n",
              "      <td>0</td>\n",
              "      <td>1</td>\n",
              "      <td>0</td>\n",
              "      <td>0</td>\n",
              "      <td>1</td>\n",
              "      <td>0</td>\n",
              "      <td>0</td>\n",
              "      <td>0</td>\n",
              "      <td>0</td>\n",
              "      <td>0</td>\n",
              "      <td>0</td>\n",
              "      <td>0</td>\n",
              "      <td>0</td>\n",
              "      <td>0</td>\n",
              "      <td>0</td>\n",
              "      <td>0</td>\n",
              "      <td>0</td>\n",
              "      <td>1</td>\n",
              "      <td>0</td>\n",
              "      <td>0</td>\n",
              "      <td>1</td>\n",
              "      <td>0</td>\n",
              "      <td>1</td>\n",
              "      <td>0</td>\n",
              "      <td>0</td>\n",
              "      <td>1</td>\n",
              "      <td>1</td>\n",
              "      <td>0</td>\n",
              "      <td>0</td>\n",
              "      <td>0</td>\n",
              "      <td>0</td>\n",
              "      <td>0</td>\n",
              "    </tr>\n",
              "    <tr>\n",
              "      <th>...</th>\n",
              "      <td>...</td>\n",
              "      <td>...</td>\n",
              "      <td>...</td>\n",
              "      <td>...</td>\n",
              "      <td>...</td>\n",
              "      <td>...</td>\n",
              "      <td>...</td>\n",
              "      <td>...</td>\n",
              "      <td>...</td>\n",
              "      <td>...</td>\n",
              "      <td>...</td>\n",
              "      <td>...</td>\n",
              "      <td>...</td>\n",
              "      <td>...</td>\n",
              "      <td>...</td>\n",
              "      <td>...</td>\n",
              "      <td>...</td>\n",
              "      <td>...</td>\n",
              "      <td>...</td>\n",
              "      <td>...</td>\n",
              "      <td>...</td>\n",
              "      <td>...</td>\n",
              "      <td>...</td>\n",
              "      <td>...</td>\n",
              "      <td>...</td>\n",
              "      <td>...</td>\n",
              "      <td>...</td>\n",
              "      <td>...</td>\n",
              "      <td>...</td>\n",
              "      <td>...</td>\n",
              "      <td>...</td>\n",
              "      <td>...</td>\n",
              "      <td>...</td>\n",
              "      <td>...</td>\n",
              "      <td>...</td>\n",
              "      <td>...</td>\n",
              "      <td>...</td>\n",
              "      <td>...</td>\n",
              "      <td>...</td>\n",
              "      <td>...</td>\n",
              "      <td>...</td>\n",
              "      <td>...</td>\n",
              "      <td>...</td>\n",
              "      <td>...</td>\n",
              "    </tr>\n",
              "    <tr>\n",
              "      <th>499995</th>\n",
              "      <td>4</td>\n",
              "      <td>2</td>\n",
              "      <td>43001</td>\n",
              "      <td>3</td>\n",
              "      <td>4105.795901</td>\n",
              "      <td>10</td>\n",
              "      <td>0</td>\n",
              "      <td>1</td>\n",
              "      <td>0</td>\n",
              "      <td>0</td>\n",
              "      <td>0</td>\n",
              "      <td>0</td>\n",
              "      <td>0</td>\n",
              "      <td>0</td>\n",
              "      <td>1</td>\n",
              "      <td>0</td>\n",
              "      <td>0</td>\n",
              "      <td>0</td>\n",
              "      <td>0</td>\n",
              "      <td>0</td>\n",
              "      <td>1</td>\n",
              "      <td>0</td>\n",
              "      <td>0</td>\n",
              "      <td>1</td>\n",
              "      <td>0</td>\n",
              "      <td>0</td>\n",
              "      <td>0</td>\n",
              "      <td>0</td>\n",
              "      <td>0</td>\n",
              "      <td>0</td>\n",
              "      <td>0</td>\n",
              "      <td>0</td>\n",
              "      <td>0</td>\n",
              "      <td>0</td>\n",
              "      <td>1</td>\n",
              "      <td>0</td>\n",
              "      <td>1</td>\n",
              "      <td>0</td>\n",
              "      <td>0</td>\n",
              "      <td>0</td>\n",
              "      <td>1</td>\n",
              "      <td>0</td>\n",
              "      <td>0</td>\n",
              "      <td>0</td>\n",
              "    </tr>\n",
              "    <tr>\n",
              "      <th>499996</th>\n",
              "      <td>13</td>\n",
              "      <td>8</td>\n",
              "      <td>85601</td>\n",
              "      <td>2</td>\n",
              "      <td>4631.550257</td>\n",
              "      <td>11</td>\n",
              "      <td>0</td>\n",
              "      <td>1</td>\n",
              "      <td>0</td>\n",
              "      <td>0</td>\n",
              "      <td>0</td>\n",
              "      <td>0</td>\n",
              "      <td>0</td>\n",
              "      <td>0</td>\n",
              "      <td>1</td>\n",
              "      <td>0</td>\n",
              "      <td>0</td>\n",
              "      <td>0</td>\n",
              "      <td>1</td>\n",
              "      <td>0</td>\n",
              "      <td>0</td>\n",
              "      <td>0</td>\n",
              "      <td>0</td>\n",
              "      <td>0</td>\n",
              "      <td>0</td>\n",
              "      <td>1</td>\n",
              "      <td>0</td>\n",
              "      <td>0</td>\n",
              "      <td>0</td>\n",
              "      <td>0</td>\n",
              "      <td>0</td>\n",
              "      <td>0</td>\n",
              "      <td>0</td>\n",
              "      <td>0</td>\n",
              "      <td>0</td>\n",
              "      <td>0</td>\n",
              "      <td>0</td>\n",
              "      <td>1</td>\n",
              "      <td>0</td>\n",
              "      <td>0</td>\n",
              "      <td>0</td>\n",
              "      <td>0</td>\n",
              "      <td>1</td>\n",
              "      <td>0</td>\n",
              "    </tr>\n",
              "    <tr>\n",
              "      <th>499997</th>\n",
              "      <td>2</td>\n",
              "      <td>3</td>\n",
              "      <td>22447</td>\n",
              "      <td>2</td>\n",
              "      <td>5456.930075</td>\n",
              "      <td>8</td>\n",
              "      <td>0</td>\n",
              "      <td>1</td>\n",
              "      <td>0</td>\n",
              "      <td>0</td>\n",
              "      <td>1</td>\n",
              "      <td>0</td>\n",
              "      <td>0</td>\n",
              "      <td>0</td>\n",
              "      <td>0</td>\n",
              "      <td>0</td>\n",
              "      <td>0</td>\n",
              "      <td>0</td>\n",
              "      <td>0</td>\n",
              "      <td>0</td>\n",
              "      <td>1</td>\n",
              "      <td>0</td>\n",
              "      <td>0</td>\n",
              "      <td>1</td>\n",
              "      <td>0</td>\n",
              "      <td>0</td>\n",
              "      <td>0</td>\n",
              "      <td>0</td>\n",
              "      <td>0</td>\n",
              "      <td>0</td>\n",
              "      <td>0</td>\n",
              "      <td>0</td>\n",
              "      <td>0</td>\n",
              "      <td>0</td>\n",
              "      <td>0</td>\n",
              "      <td>0</td>\n",
              "      <td>0</td>\n",
              "      <td>1</td>\n",
              "      <td>0</td>\n",
              "      <td>0</td>\n",
              "      <td>1</td>\n",
              "      <td>0</td>\n",
              "      <td>0</td>\n",
              "      <td>0</td>\n",
              "    </tr>\n",
              "    <tr>\n",
              "      <th>499998</th>\n",
              "      <td>2</td>\n",
              "      <td>1</td>\n",
              "      <td>29957</td>\n",
              "      <td>2</td>\n",
              "      <td>4694.127772</td>\n",
              "      <td>23</td>\n",
              "      <td>0</td>\n",
              "      <td>0</td>\n",
              "      <td>1</td>\n",
              "      <td>0</td>\n",
              "      <td>0</td>\n",
              "      <td>0</td>\n",
              "      <td>0</td>\n",
              "      <td>0</td>\n",
              "      <td>0</td>\n",
              "      <td>1</td>\n",
              "      <td>0</td>\n",
              "      <td>0</td>\n",
              "      <td>0</td>\n",
              "      <td>0</td>\n",
              "      <td>0</td>\n",
              "      <td>0</td>\n",
              "      <td>0</td>\n",
              "      <td>0</td>\n",
              "      <td>0</td>\n",
              "      <td>0</td>\n",
              "      <td>0</td>\n",
              "      <td>0</td>\n",
              "      <td>1</td>\n",
              "      <td>0</td>\n",
              "      <td>0</td>\n",
              "      <td>0</td>\n",
              "      <td>0</td>\n",
              "      <td>0</td>\n",
              "      <td>1</td>\n",
              "      <td>0</td>\n",
              "      <td>0</td>\n",
              "      <td>0</td>\n",
              "      <td>1</td>\n",
              "      <td>0</td>\n",
              "      <td>0</td>\n",
              "      <td>0</td>\n",
              "      <td>0</td>\n",
              "      <td>0</td>\n",
              "    </tr>\n",
              "    <tr>\n",
              "      <th>499999</th>\n",
              "      <td>3</td>\n",
              "      <td>3</td>\n",
              "      <td>45008</td>\n",
              "      <td>4</td>\n",
              "      <td>4713.868519</td>\n",
              "      <td>10</td>\n",
              "      <td>0</td>\n",
              "      <td>1</td>\n",
              "      <td>0</td>\n",
              "      <td>0</td>\n",
              "      <td>0</td>\n",
              "      <td>0</td>\n",
              "      <td>0</td>\n",
              "      <td>0</td>\n",
              "      <td>1</td>\n",
              "      <td>0</td>\n",
              "      <td>0</td>\n",
              "      <td>0</td>\n",
              "      <td>0</td>\n",
              "      <td>0</td>\n",
              "      <td>0</td>\n",
              "      <td>0</td>\n",
              "      <td>1</td>\n",
              "      <td>0</td>\n",
              "      <td>0</td>\n",
              "      <td>0</td>\n",
              "      <td>1</td>\n",
              "      <td>0</td>\n",
              "      <td>0</td>\n",
              "      <td>0</td>\n",
              "      <td>0</td>\n",
              "      <td>0</td>\n",
              "      <td>0</td>\n",
              "      <td>0</td>\n",
              "      <td>1</td>\n",
              "      <td>0</td>\n",
              "      <td>0</td>\n",
              "      <td>1</td>\n",
              "      <td>0</td>\n",
              "      <td>1</td>\n",
              "      <td>0</td>\n",
              "      <td>0</td>\n",
              "      <td>0</td>\n",
              "      <td>1</td>\n",
              "    </tr>\n",
              "  </tbody>\n",
              "</table>\n",
              "<p>500000 rows × 44 columns</p>\n",
              "</div>"
            ],
            "text/plain": [
              "        Available Extra Rooms in Hospital  staff_available  patientid  \\\n",
              "0                                       4                0      33070   \n",
              "1                                       4                2      34808   \n",
              "2                                       2                8      44577   \n",
              "3                                       4                7       3695   \n",
              "4                                       2               10     108956   \n",
              "...                                   ...              ...        ...   \n",
              "499995                                  4                2      43001   \n",
              "499996                                 13                8      85601   \n",
              "499997                                  2                3      22447   \n",
              "499998                                  2                1      29957   \n",
              "499999                                  3                3      45008   \n",
              "\n",
              "        Visitors with Patient  Admission_Deposit  Stay (in days)  \\\n",
              "0                           4        2966.408696               8   \n",
              "1                           2        3554.835677               9   \n",
              "2                           2        5624.733654               7   \n",
              "3                           4        4814.149231               8   \n",
              "4                           2        5169.269637              34   \n",
              "...                       ...                ...             ...   \n",
              "499995                      3        4105.795901              10   \n",
              "499996                      2        4631.550257              11   \n",
              "499997                      2        5456.930075               8   \n",
              "499998                      2        4694.127772              23   \n",
              "499999                      4        4713.868519              10   \n",
              "\n",
              "        Department_anesthesia  Department_gynecology  Department_radiotherapy  \\\n",
              "0                           0                      1                        0   \n",
              "1                           0                      1                        0   \n",
              "2                           0                      1                        0   \n",
              "3                           0                      1                        0   \n",
              "4                           1                      0                        0   \n",
              "...                       ...                    ...                      ...   \n",
              "499995                      0                      1                        0   \n",
              "499996                      0                      1                        0   \n",
              "499997                      0                      1                        0   \n",
              "499998                      0                      0                        1   \n",
              "499999                      0                      1                        0   \n",
              "\n",
              "        Department_surgery  Ward_Facility_Code_B  Ward_Facility_Code_C  \\\n",
              "0                        0                     0                     0   \n",
              "1                        0                     1                     0   \n",
              "2                        0                     1                     0   \n",
              "3                        0                     0                     0   \n",
              "4                        0                     0                     0   \n",
              "...                    ...                   ...                   ...   \n",
              "499995                   0                     0                     0   \n",
              "499996                   0                     0                     0   \n",
              "499997                   0                     1                     0   \n",
              "499998                   0                     0                     0   \n",
              "499999                   0                     0                     0   \n",
              "\n",
              "        Ward_Facility_Code_D  Ward_Facility_Code_E  Ward_Facility_Code_F  \\\n",
              "0                          1                     0                     0   \n",
              "1                          0                     0                     0   \n",
              "2                          0                     0                     0   \n",
              "3                          1                     0                     0   \n",
              "4                          0                     1                     0   \n",
              "...                      ...                   ...                   ...   \n",
              "499995                     0                     0                     1   \n",
              "499996                     0                     0                     1   \n",
              "499997                     0                     0                     0   \n",
              "499998                     0                     0                     0   \n",
              "499999                     0                     0                     1   \n",
              "\n",
              "        doctor_name_Dr John  doctor_name_Dr Mark  doctor_name_Dr Nathan  \\\n",
              "0                         0                    0                      0   \n",
              "1                         0                    0                      0   \n",
              "2                         0                    0                      0   \n",
              "3                         0                    0                      0   \n",
              "4                         0                    1                      0   \n",
              "...                     ...                  ...                    ...   \n",
              "499995                    0                    0                      0   \n",
              "499996                    0                    0                      0   \n",
              "499997                    0                    0                      0   \n",
              "499998                    1                    0                      0   \n",
              "499999                    0                    0                      0   \n",
              "\n",
              "        doctor_name_Dr Olivia  doctor_name_Dr Sam  doctor_name_Dr Sarah  \\\n",
              "0                           0                   0                     0   \n",
              "1                           0                   0                     0   \n",
              "2                           0                   0                     0   \n",
              "3                           1                   0                     0   \n",
              "4                           0                   0                     0   \n",
              "...                       ...                 ...                   ...   \n",
              "499995                      0                   0                     1   \n",
              "499996                      1                   0                     0   \n",
              "499997                      0                   0                     1   \n",
              "499998                      0                   0                     0   \n",
              "499999                      0                   0                     0   \n",
              "\n",
              "        doctor_name_Dr Simon  doctor_name_Dr Sophia  Age_11-20  Age_21-30  \\\n",
              "0                          0                      1          0          0   \n",
              "1                          0                      1          0          0   \n",
              "2                          0                      1          0          1   \n",
              "3                          0                      0          0          0   \n",
              "4                          0                      0          0          0   \n",
              "...                      ...                    ...        ...        ...   \n",
              "499995                     0                      0          1          0   \n",
              "499996                     0                      0          0          0   \n",
              "499997                     0                      0          1          0   \n",
              "499998                     0                      0          0          0   \n",
              "499999                     0                      1          0          0   \n",
              "\n",
              "        Age_31-40  Age_41-50  Age_51-60  Age_61-70  Age_71-80  Age_81-90  \\\n",
              "0               0          1          0          0          0          0   \n",
              "1               1          0          0          0          0          0   \n",
              "2               0          0          0          0          0          0   \n",
              "3               1          0          0          0          0          0   \n",
              "4               0          0          0          0          1          0   \n",
              "...           ...        ...        ...        ...        ...        ...   \n",
              "499995          0          0          0          0          0          0   \n",
              "499996          1          0          0          0          0          0   \n",
              "499997          0          0          0          0          0          0   \n",
              "499998          0          0          0          1          0          0   \n",
              "499999          0          1          0          0          0          0   \n",
              "\n",
              "        Age_91-100  gender_Male  gender_Other  Type of Admission_Trauma  \\\n",
              "0                0            0             0                         1   \n",
              "1                0            0             0                         1   \n",
              "2                0            0             0                         1   \n",
              "3                0            0             0                         0   \n",
              "4                0            1             0                         1   \n",
              "...            ...          ...           ...                       ...   \n",
              "499995           0            0             0                         1   \n",
              "499996           0            0             0                         0   \n",
              "499997           0            0             0                         0   \n",
              "499998           0            0             0                         1   \n",
              "499999           0            0             0                         1   \n",
              "\n",
              "        Type of Admission_Urgent  Severity of Illness_Minor  \\\n",
              "0                              0                          0   \n",
              "1                              0                          1   \n",
              "2                              0                          0   \n",
              "3                              1                          0   \n",
              "4                              0                          0   \n",
              "...                          ...                        ...   \n",
              "499995                         0                          1   \n",
              "499996                         0                          0   \n",
              "499997                         0                          0   \n",
              "499998                         0                          0   \n",
              "499999                         0                          0   \n",
              "\n",
              "        Severity of Illness_Moderate  health_conditions_Diabetes  \\\n",
              "0                                  0                           1   \n",
              "1                                  0                           0   \n",
              "2                                  0                           1   \n",
              "3                                  1                           0   \n",
              "4                                  1                           1   \n",
              "...                              ...                         ...   \n",
              "499995                             0                           0   \n",
              "499996                             1                           0   \n",
              "499997                             1                           0   \n",
              "499998                             0                           1   \n",
              "499999                             1                           0   \n",
              "\n",
              "        health_conditions_Heart disease  \\\n",
              "0                                     0   \n",
              "1                                     1   \n",
              "2                                     0   \n",
              "3                                     0   \n",
              "4                                     0   \n",
              "...                                 ...   \n",
              "499995                                0   \n",
              "499996                                0   \n",
              "499997                                0   \n",
              "499998                                0   \n",
              "499999                                1   \n",
              "\n",
              "        health_conditions_High Blood Pressure  health_conditions_None  \\\n",
              "0                                           0                       0   \n",
              "1                                           0                       0   \n",
              "2                                           0                       0   \n",
              "3                                           0                       1   \n",
              "4                                           0                       0   \n",
              "...                                       ...                     ...   \n",
              "499995                                      1                       0   \n",
              "499996                                      0                       0   \n",
              "499997                                      1                       0   \n",
              "499998                                      0                       0   \n",
              "499999                                      0                       0   \n",
              "\n",
              "        health_conditions_Other  Insurance_Yes  \n",
              "0                             0              1  \n",
              "1                             0              0  \n",
              "2                             0              1  \n",
              "3                             0              0  \n",
              "4                             0              0  \n",
              "...                         ...            ...  \n",
              "499995                        0              0  \n",
              "499996                        1              0  \n",
              "499997                        0              0  \n",
              "499998                        0              0  \n",
              "499999                        0              1  \n",
              "\n",
              "[500000 rows x 44 columns]"
            ]
          },
          "execution_count": 25,
          "metadata": {},
          "output_type": "execute_result"
        }
      ],
      "source": [
        "# Check the data, after handling categorical data\n",
        "data"
      ]
    },
    {
      "cell_type": "code",
      "execution_count": null,
      "metadata": {
        "id": "HM40YACV7O5j"
      },
      "outputs": [],
      "source": [
        "# Dropping patientid from the data as it is an identifier and will not add value to the analysis\n",
        "data=data.drop(columns=[\"patientid\"])"
      ]
    },
    {
      "cell_type": "code",
      "execution_count": null,
      "metadata": {
        "id": "CpnezOEgjQY7"
      },
      "outputs": [],
      "source": [
        "# Separating independent variables and the target variable\n",
        "x=data.drop('Stay (in days)',axis=1)\n",
        "\n",
        "y=data['Stay (in days)'] "
      ]
    },
    {
      "cell_type": "code",
      "execution_count": null,
      "metadata": {
        "id": "KTg4-p8-9EO7"
      },
      "outputs": [],
      "source": [
        "# Splitting the dataset into train and test datasets\n",
        "x_train,x_test,y_train,y_test=train_test_split(x,y,test_size=0.2,shuffle=True,random_state=1)"
      ]
    },
    {
      "cell_type": "code",
      "execution_count": null,
      "metadata": {
        "colab": {
          "base_uri": "https://localhost:8080/"
        },
        "id": "rEG6Rs2wjVrO",
        "outputId": "0c5baeda-a8b2-4246-b50d-2eb98af09a00"
      },
      "outputs": [
        {
          "name": "stdout",
          "output_type": "stream",
          "text": [
            "Shape of Training set :  (400000, 42)\n",
            "Shape of test set :  (100000, 42)\n"
          ]
        }
      ],
      "source": [
        "# Checking the shape of the train and test data\n",
        "print(\"Shape of Training set : \", x_train.shape)\n",
        "print(\"Shape of test set : \", x_test.shape)\n"
      ]
    },
    {
      "cell_type": "markdown",
      "metadata": {
        "id": "wwDclxhA8ply"
      },
      "source": [
        "## **Model Building**"
      ]
    },
    {
      "cell_type": "markdown",
      "metadata": {
        "id": "SH1_ef6jSVcD"
      },
      "source": [
        "* We will be using different metrics functions defined in sklearn like RMSE, MAE, and 𝑅2 for regression models evaluation.\n",
        "* We will define a function to calculate MAPE and adjusted 𝑅2.\n",
        "* The mean absolute percentage error (MAPE) measures the accuracy of predictions as a percentage, and can be calculated as the average absolute percent error for each predicted value minus actual values divided by actual values. It works best if there are no extreme values in the data and none of the actual values are 0."
      ]
    },
    {
      "cell_type": "code",
      "execution_count": null,
      "metadata": {
        "id": "v4s83hAM9I8X"
      },
      "outputs": [],
      "source": [
        "# function to compute adjusted R-squared\n",
        "def adj_r2_score(predictors, targets, predictions):\n",
        "    r2 = r2_score(targets, predictions)\n",
        "    n = predictors.shape[0]\n",
        "    k = predictors.shape[1]\n",
        "    return 1 - ((1 - r2) * (n - 1) / (n - k - 1))\n",
        "\n",
        "\n",
        "# function to compute MAPE\n",
        "def mape_score(targets, predictions):\n",
        "    return np.mean(np.abs(targets - predictions) / targets) * 100\n",
        "\n",
        "\n",
        "# function to compute different metrics to check performance of a regression model\n",
        "def model_performance_regression(model, predictors, target):\n",
        "    \"\"\"\n",
        "    Function to compute different metrics to check regression model performance\n",
        "\n",
        "    model: regressor\n",
        "    predictors: independent variables\n",
        "    target: dependent variable\n",
        "    \"\"\"\n",
        "\n",
        "    # predicting using the independent variables\n",
        "    pred = model.predict(predictors)\n",
        "\n",
        "    r2 = r2_score(target, pred)  # to compute R-squared\n",
        "    adjr2 = adj_r2_score(predictors, target, pred)  # to compute adjusted R-squared\n",
        "    rmse = np.sqrt(mean_squared_error(target, pred))  # to compute RMSE\n",
        "    mae = mean_absolute_error(target, pred)  # to compute MAE\n",
        "    mape = mape_score(target, pred)  # to compute MAPE\n",
        "\n",
        "    # creating a dataframe of metrics\n",
        "    df_perf = pd.DataFrame(\n",
        "        {\n",
        "            \"RMSE\": rmse,\n",
        "            \"MAE\": mae,\n",
        "            \"R-squared\": r2,\n",
        "            \"Adj. R-squared\": adjr2,\n",
        "            \"MAPE\": mape,\n",
        "        },\n",
        "        index=[0],\n",
        "    )\n",
        "\n",
        "    return df_perf"
      ]
    },
    {
      "cell_type": "markdown",
      "metadata": {
        "id": "J0Nkflof9xLs"
      },
      "source": [
        "### **Decision Tree Regressor**"
      ]
    },
    {
      "cell_type": "code",
      "execution_count": null,
      "metadata": {
        "colab": {
          "base_uri": "https://localhost:8080/",
          "height": 81
        },
        "id": "qshkBU0uUewv",
        "outputId": "d7d288ff-d535-4f78-b961-cedf3ba72565"
      },
      "outputs": [
        {
          "data": {
            "text/html": [
              "<div>\n",
              "<style scoped>\n",
              "    .dataframe tbody tr th:only-of-type {\n",
              "        vertical-align: middle;\n",
              "    }\n",
              "\n",
              "    .dataframe tbody tr th {\n",
              "        vertical-align: top;\n",
              "    }\n",
              "\n",
              "    .dataframe thead th {\n",
              "        text-align: right;\n",
              "    }\n",
              "</style>\n",
              "<table border=\"1\" class=\"dataframe\">\n",
              "  <thead>\n",
              "    <tr style=\"text-align: right;\">\n",
              "      <th></th>\n",
              "      <th>RMSE</th>\n",
              "      <th>MAE</th>\n",
              "      <th>R-squared</th>\n",
              "      <th>Adj. R-squared</th>\n",
              "      <th>MAPE</th>\n",
              "    </tr>\n",
              "  </thead>\n",
              "  <tbody>\n",
              "    <tr>\n",
              "      <th>0</th>\n",
              "      <td>1.81515</td>\n",
              "      <td>1.12829</td>\n",
              "      <td>0.94768</td>\n",
              "      <td>0.947658</td>\n",
              "      <td>9.341248</td>\n",
              "    </tr>\n",
              "  </tbody>\n",
              "</table>\n",
              "</div>"
            ],
            "text/plain": [
              "      RMSE      MAE  R-squared  Adj. R-squared      MAPE\n",
              "0  1.81515  1.12829    0.94768        0.947658  9.341248"
            ]
          },
          "execution_count": 62,
          "metadata": {},
          "output_type": "execute_result"
        }
      ],
      "source": [
        "# Decision Tree Regressor\n",
        "dt_regressor = DecisionTreeRegressor(random_state = 1)\n",
        "\n",
        "# Fitting the model\n",
        "dt_regressor.fit(x_train,y_train)\n",
        "\n",
        "# Model Performance on test data i.e prediction\n",
        "dt_regressor_perf_test = model_performance_regression(dt_regressor, x_test, y_test)\n",
        "\n",
        "dt_regressor_perf_test"
      ]
    },
    {
      "cell_type": "markdown",
      "metadata": {
        "id": "sa8z6Ric93Qc"
      },
      "source": [
        "### **Tuning the Decision Tree Regressor**"
      ]
    },
    {
      "cell_type": "code",
      "execution_count": null,
      "metadata": {
        "colab": {
          "base_uri": "https://localhost:8080/"
        },
        "id": "kJ1ncLJuuE3c",
        "outputId": "6a28a1cb-bf45-45a5-eaf4-b6dd03a75640"
      },
      "outputs": [
        {
          "data": {
            "text/plain": [
              "DecisionTreeRegressor(criterion='friedman_mse', max_depth=7, min_samples_leaf=3,\n",
              "                      random_state=1)"
            ]
          },
          "execution_count": 32,
          "metadata": {},
          "output_type": "execute_result"
        }
      ],
      "source": [
        "# Choose the type of regressor \n",
        "dtree_tuned = DecisionTreeRegressor(random_state=1)\n",
        "\n",
        "# Grid of parameters to choose from\n",
        "parameters = {'max_depth': np.arange(2,8), \n",
        "              'criterion': ['squared_error', 'friedman_mse'],\n",
        "              'min_samples_leaf': [1, 3, 5, 7],\n",
        "              'max_leaf_nodes' : [2, 5, 7] + [None]\n",
        "             }\n",
        "\n",
        "\n",
        "# Type of scoring used to compare parameter combinations\n",
        "scorer = make_scorer(r2_score)\n",
        "\n",
        "# Run the grid search\n",
        "grid_obj = GridSearchCV(dtree_tuned, parameters, scoring=scorer,cv=5)\n",
        "grid_obj = grid_obj.fit(x_train,y_train)\n",
        "\n",
        "# Set the dtree_tuned_regressor to the best combination of parameters\n",
        "dtree_tuned_regressor = grid_obj.best_estimator_\n",
        "\n",
        "dtree_tuned_regressor.fit(x_train, y_train)"
      ]
    },
    {
      "cell_type": "markdown",
      "metadata": {
        "id": "5OuST6SBpTSf"
      },
      "source": [
        "**We have tuned the model and fit the tuned model on the training data. Now, let's check the model performance on the testing data**"
      ]
    },
    {
      "cell_type": "code",
      "execution_count": null,
      "metadata": {
        "id": "3JCMcfuBB68v"
      },
      "outputs": [],
      "source": [
        "# Get the score of tuned decision tree regressor\n",
        "dtree_tuned_regressor_perf_test = model_performance_regression(dtree_tuned_regressor, x_test, y_test)"
      ]
    },
    {
      "cell_type": "code",
      "execution_count": null,
      "metadata": {
        "colab": {
          "base_uri": "https://localhost:8080/",
          "height": 81
        },
        "id": "3Qj6zqcuCArm",
        "outputId": "01f17364-49c9-472e-ac0b-ba06ecdbd452"
      },
      "outputs": [
        {
          "data": {
            "text/html": [
              "<div>\n",
              "<style scoped>\n",
              "    .dataframe tbody tr th:only-of-type {\n",
              "        vertical-align: middle;\n",
              "    }\n",
              "\n",
              "    .dataframe tbody tr th {\n",
              "        vertical-align: top;\n",
              "    }\n",
              "\n",
              "    .dataframe thead th {\n",
              "        text-align: right;\n",
              "    }\n",
              "</style>\n",
              "<table border=\"1\" class=\"dataframe\">\n",
              "  <thead>\n",
              "    <tr style=\"text-align: right;\">\n",
              "      <th></th>\n",
              "      <th>RMSE</th>\n",
              "      <th>MAE</th>\n",
              "      <th>R-squared</th>\n",
              "      <th>Adj. R-squared</th>\n",
              "      <th>MAPE</th>\n",
              "    </tr>\n",
              "  </thead>\n",
              "  <tbody>\n",
              "    <tr>\n",
              "      <th>0</th>\n",
              "      <td>1.741743</td>\n",
              "      <td>1.161072</td>\n",
              "      <td>0.951826</td>\n",
              "      <td>0.951806</td>\n",
              "      <td>9.64668</td>\n",
              "    </tr>\n",
              "  </tbody>\n",
              "</table>\n",
              "</div>"
            ],
            "text/plain": [
              "       RMSE       MAE  R-squared  Adj. R-squared     MAPE\n",
              "0  1.741743  1.161072   0.951826        0.951806  9.64668"
            ]
          },
          "execution_count": 34,
          "metadata": {},
          "output_type": "execute_result"
        }
      ],
      "source": [
        "dtree_tuned_regressor_perf_test"
      ]
    },
    {
      "cell_type": "markdown",
      "metadata": {
        "id": "1-2fDKtEmXhz"
      },
      "source": [
        "**Let's look at the feature importance of the tuned decision tree model**"
      ]
    },
    {
      "cell_type": "code",
      "execution_count": null,
      "metadata": {
        "colab": {
          "base_uri": "https://localhost:8080/",
          "height": 621
        },
        "id": "J7vyv1jkmoRS",
        "outputId": "f97d477a-219d-4e3b-d7a2-513e4a333fc3"
      },
      "outputs": [
        {
          "data": {
            "image/png": "[encoded data removed]",
            "text/plain": [
              "<Figure size 720x720 with 1 Axes>"
            ]
          },
          "metadata": {
            "needs_background": "light"
          },
          "output_type": "display_data"
        }
      ],
      "source": [
        "# Plotting the feature importance\n",
        "features = list(x.columns)\n",
        "importances = dtree_tuned_regressor.feature_importances_\n",
        "indices = np.argsort(importances)\n",
        "\n",
        "plt.figure(figsize=(10,10))\n",
        "plt.title('Feature Importances')\n",
        "plt.barh(range(len(indices)), importances[indices], color='violet', align='center')\n",
        "plt.yticks(range(len(indices)), [features[i] for i in indices])\n",
        "plt.xlabel('Relative Importance')\n",
        "plt.show()"
      ]
    },
    {
      "cell_type": "markdown",
      "metadata": {
        "id": "sogCEzntm2fF"
      },
      "source": [
        "**Observations:**\n",
        "\n",
        "- **Department_gynecology, Age_41_50, and Age_31_40 are the most important features** followed by Department_anesthesia, Department_anesthesia, Department_surgery.\n",
        "- The rest of the variables seem to have no impact in this model in terms of deciding the duration of the stay in the hospital."
      ]
    },
    {
      "cell_type": "markdown",
      "metadata": {
        "id": "lkXRAKBseIfT"
      },
      "source": [
        "### **Bagging Regressor**"
      ]
    },
    {
      "cell_type": "code",
      "execution_count": null,
      "metadata": {
        "colab": {
          "base_uri": "https://localhost:8080/",
          "height": 81
        },
        "id": "OrPnEn_pi0Ap",
        "outputId": "6ff227fd-e866-4487-98ca-b5dfe37bd922"
      },
      "outputs": [
        {
          "data": {
            "text/html": [
              "<div>\n",
              "<style scoped>\n",
              "    .dataframe tbody tr th:only-of-type {\n",
              "        vertical-align: middle;\n",
              "    }\n",
              "\n",
              "    .dataframe tbody tr th {\n",
              "        vertical-align: top;\n",
              "    }\n",
              "\n",
              "    .dataframe thead th {\n",
              "        text-align: right;\n",
              "    }\n",
              "</style>\n",
              "<table border=\"1\" class=\"dataframe\">\n",
              "  <thead>\n",
              "    <tr style=\"text-align: right;\">\n",
              "      <th></th>\n",
              "      <th>RMSE</th>\n",
              "      <th>MAE</th>\n",
              "      <th>R-squared</th>\n",
              "      <th>Adj. R-squared</th>\n",
              "      <th>MAPE</th>\n",
              "    </tr>\n",
              "  </thead>\n",
              "  <tbody>\n",
              "    <tr>\n",
              "      <th>0</th>\n",
              "      <td>1.36894</td>\n",
              "      <td>0.905205</td>\n",
              "      <td>0.970242</td>\n",
              "      <td>0.970229</td>\n",
              "      <td>7.648842</td>\n",
              "    </tr>\n",
              "  </tbody>\n",
              "</table>\n",
              "</div>"
            ],
            "text/plain": [
              "      RMSE       MAE  R-squared  Adj. R-squared      MAPE\n",
              "0  1.36894  0.905205   0.970242        0.970229  7.648842"
            ]
          },
          "execution_count": 37,
          "metadata": {},
          "output_type": "execute_result"
        }
      ],
      "source": [
        "# Bagging Regressor\n",
        "bagging_estimator=BaggingRegressor(random_state=1)\n",
        "\n",
        "# Fitting the model\n",
        "bagging_estimator.fit(x_train,y_train)\n",
        "\n",
        "# Model Performance on test data i.e prediction\n",
        "bagging_estimator_perf_test = model_performance_regression(bagging_estimator, x_test, y_test)\n",
        "\n",
        "bagging_estimator_perf_test"
      ]
    },
    {
      "cell_type": "markdown",
      "metadata": {
        "id": "3h_IMznmkhTg"
      },
      "source": [
        "### **Tuned Bagging Regressor**"
      ]
    },
    {
      "cell_type": "code",
      "execution_count": null,
      "metadata": {
        "colab": {
          "base_uri": "https://localhost:8080/"
        },
        "id": "4mwlkvFEklU1",
        "outputId": "421cee8f-16dc-4a2e-bd95-6dd44fd19442"
      },
      "outputs": [
        {
          "data": {
            "text/plain": [
              "BaggingRegressor(max_features=0.8, max_samples=0.8, n_estimators=15,\n",
              "                 random_state=1)"
            ]
          },
          "execution_count": 38,
          "metadata": {},
          "output_type": "execute_result"
        }
      ],
      "source": [
        "# Choose the type of regressor. \n",
        "bagging_tuned = BaggingRegressor(random_state=1)\n",
        "\n",
        "# Grid of parameters to choose from\n",
        "parameters = {\"n_estimators\": [10,15,20],\n",
        "              \"max_samples\" : [0.8,1],\n",
        "              \"max_features\" : [0.8,1]\n",
        "             }\n",
        "\n",
        "\n",
        "# Type of scoring used to compare parameter combinations\n",
        "scorer = make_scorer(r2_score)\n",
        "\n",
        "# Run the grid search\n",
        "grid_obj = GridSearchCV(bagging_tuned , parameters, scoring=scorer,cv=5)\n",
        "grid_obj = grid_obj.fit(x_train,y_train)\n",
        "\n",
        "# Set the bagging_tuned_regressor to the best combination of parameters\n",
        "bagging_tuned_regressor = grid_obj.best_estimator_\n",
        "\n",
        "bagging_tuned_regressor.fit(x_train, y_train)"
      ]
    },
    {
      "cell_type": "code",
      "execution_count": null,
      "metadata": {
        "colab": {
          "base_uri": "https://localhost:8080/",
          "height": 81
        },
        "id": "dCF5pabCkNyF",
        "outputId": "0ee170aa-2260-415c-d403-007e3eaccc5a"
      },
      "outputs": [
        {
          "data": {
            "text/html": [
              "<div>\n",
              "<style scoped>\n",
              "    .dataframe tbody tr th:only-of-type {\n",
              "        vertical-align: middle;\n",
              "    }\n",
              "\n",
              "    .dataframe tbody tr th {\n",
              "        vertical-align: top;\n",
              "    }\n",
              "\n",
              "    .dataframe thead th {\n",
              "        text-align: right;\n",
              "    }\n",
              "</style>\n",
              "<table border=\"1\" class=\"dataframe\">\n",
              "  <thead>\n",
              "    <tr style=\"text-align: right;\">\n",
              "      <th></th>\n",
              "      <th>RMSE</th>\n",
              "      <th>MAE</th>\n",
              "      <th>R-squared</th>\n",
              "      <th>Adj. R-squared</th>\n",
              "      <th>MAPE</th>\n",
              "    </tr>\n",
              "  </thead>\n",
              "  <tbody>\n",
              "    <tr>\n",
              "      <th>0</th>\n",
              "      <td>1.536988</td>\n",
              "      <td>1.032587</td>\n",
              "      <td>0.962487</td>\n",
              "      <td>0.962471</td>\n",
              "      <td>8.952246</td>\n",
              "    </tr>\n",
              "  </tbody>\n",
              "</table>\n",
              "</div>"
            ],
            "text/plain": [
              "       RMSE       MAE  R-squared  Adj. R-squared      MAPE\n",
              "0  1.536988  1.032587   0.962487        0.962471  8.952246"
            ]
          },
          "execution_count": 39,
          "metadata": {},
          "output_type": "execute_result"
        }
      ],
      "source": [
        "# Get the score of tuned Bagging tree regressor\n",
        "bagging_tuned_regressor_perf_test = model_performance_regression(bagging_tuned_regressor, x_test, y_test)\n",
        "bagging_tuned_regressor_perf_test"
      ]
    },
    {
      "cell_type": "markdown",
      "metadata": {
        "id": "At1KOS5GBq5h"
      },
      "source": [
        "**The bagging regressor has no attribute to calculate feature importance in Sklearn. So, let's move on to the next model.** "
      ]
    },
    {
      "cell_type": "markdown",
      "metadata": {
        "id": "eZg2DYmNeQ-2"
      },
      "source": [
        "### **Random Forest Regressor**"
      ]
    },
    {
      "cell_type": "code",
      "execution_count": null,
      "metadata": {
        "colab": {
          "base_uri": "https://localhost:8080/",
          "height": 81
        },
        "id": "2AWy2uKodOdL",
        "outputId": "e32644c4-8da1-49d5-a178-71f6dbc1aee2"
      },
      "outputs": [
        {
          "data": {
            "text/html": [
              "<div>\n",
              "<style scoped>\n",
              "    .dataframe tbody tr th:only-of-type {\n",
              "        vertical-align: middle;\n",
              "    }\n",
              "\n",
              "    .dataframe tbody tr th {\n",
              "        vertical-align: top;\n",
              "    }\n",
              "\n",
              "    .dataframe thead th {\n",
              "        text-align: right;\n",
              "    }\n",
              "</style>\n",
              "<table border=\"1\" class=\"dataframe\">\n",
              "  <thead>\n",
              "    <tr style=\"text-align: right;\">\n",
              "      <th></th>\n",
              "      <th>RMSE</th>\n",
              "      <th>MAE</th>\n",
              "      <th>R-squared</th>\n",
              "      <th>Adj. R-squared</th>\n",
              "      <th>MAPE</th>\n",
              "    </tr>\n",
              "  </thead>\n",
              "  <tbody>\n",
              "    <tr>\n",
              "      <th>0</th>\n",
              "      <td>1.303684</td>\n",
              "      <td>0.86505</td>\n",
              "      <td>0.973011</td>\n",
              "      <td>0.973</td>\n",
              "      <td>7.314995</td>\n",
              "    </tr>\n",
              "  </tbody>\n",
              "</table>\n",
              "</div>"
            ],
            "text/plain": [
              "       RMSE      MAE  R-squared  Adj. R-squared      MAPE\n",
              "0  1.303684  0.86505   0.973011           0.973  7.314995"
            ]
          },
          "execution_count": 63,
          "metadata": {},
          "output_type": "execute_result"
        }
      ],
      "source": [
        "# Random Forest Regressor\n",
        "regressor = RandomForestRegressor(n_estimators = 100, random_state = 1)\n",
        "\n",
        "# Fitting the model\n",
        "regressor.fit(x_train, y_train)\n",
        "\n",
        "# Model Performance on test data i.e prediction\n",
        "regressor_perf_test = model_performance_regression(regressor, x_test, y_test)\n",
        "\n",
        "regressor_perf_test"
      ]
    },
    {
      "cell_type": "markdown",
      "metadata": {
        "id": "3u0gWZX1obu7"
      },
      "source": [
        "### **Tuned Random Forest**\n",
        "\n",
        "**NOTE:** Due to the large number of observations in the data, the code in the next cell for GridSearchCV might take 1-2 hours to run depending on the configuration of your system.  "
      ]
    },
    {
      "cell_type": "code",
      "execution_count": null,
      "metadata": {
        "colab": {
          "base_uri": "https://localhost:8080/"
        },
        "id": "ONfg_OIGoaLU",
        "outputId": "27db0837-b0f7-48da-fced-a4498cff7e3e"
      },
      "outputs": [
        {
          "data": {
            "text/plain": [
              "RandomForestRegressor(max_depth=7, max_features=0.8, n_estimators=110,\n",
              "                      random_state=0)"
            ]
          },
          "execution_count": 41,
          "metadata": {},
          "output_type": "execute_result"
        }
      ],
      "source": [
        "rf_tuned = RandomForestRegressor(random_state=1)\n",
        "\n",
        "# Grid of parameters to choose from\n",
        "parameters = {\"n_estimators\": [110, 120],\n",
        "    \"max_depth\": [5, 7],\n",
        "    \"max_features\": [0.8, 1]\n",
        "             }\n",
        "\n",
        "# Type of scoring used to compare parameter combinations\n",
        "scorer = make_scorer(r2_score)\n",
        "\n",
        "# Run the grid search\n",
        "grid_obj = GridSearchCV(rf_tuned, parameters, scoring=scorer,cv=5)\n",
        "grid_obj = grid_obj.fit(x_train,y_train)\n",
        "\n",
        "# Set the rf_tuned_regressor to the best combination of parameters\n",
        "rf_tuned_regressor = grid_obj.best_estimator_\n",
        "\n",
        "rf_tuned_regressor.fit(x_train, y_train)"
      ]
    },
    {
      "cell_type": "code",
      "execution_count": null,
      "metadata": {
        "colab": {
          "base_uri": "https://localhost:8080/",
          "height": 81
        },
        "id": "wSh5GQzatVoR",
        "outputId": "593955e6-0d4a-4520-ed30-5682a9892196"
      },
      "outputs": [
        {
          "data": {
            "text/html": [
              "<div>\n",
              "<style scoped>\n",
              "    .dataframe tbody tr th:only-of-type {\n",
              "        vertical-align: middle;\n",
              "    }\n",
              "\n",
              "    .dataframe tbody tr th {\n",
              "        vertical-align: top;\n",
              "    }\n",
              "\n",
              "    .dataframe thead th {\n",
              "        text-align: right;\n",
              "    }\n",
              "</style>\n",
              "<table border=\"1\" class=\"dataframe\">\n",
              "  <thead>\n",
              "    <tr style=\"text-align: right;\">\n",
              "      <th></th>\n",
              "      <th>RMSE</th>\n",
              "      <th>MAE</th>\n",
              "      <th>R-squared</th>\n",
              "      <th>Adj. R-squared</th>\n",
              "      <th>MAPE</th>\n",
              "    </tr>\n",
              "  </thead>\n",
              "  <tbody>\n",
              "    <tr>\n",
              "      <th>0</th>\n",
              "      <td>1.722618</td>\n",
              "      <td>1.156882</td>\n",
              "      <td>0.952878</td>\n",
              "      <td>0.952859</td>\n",
              "      <td>9.650161</td>\n",
              "    </tr>\n",
              "  </tbody>\n",
              "</table>\n",
              "</div>"
            ],
            "text/plain": [
              "       RMSE       MAE  R-squared  Adj. R-squared      MAPE\n",
              "0  1.722618  1.156882   0.952878        0.952859  9.650161"
            ]
          },
          "execution_count": 42,
          "metadata": {},
          "output_type": "execute_result"
        }
      ],
      "source": [
        "# Model Performance on test data i.e prediction\n",
        "rf_tuned_regressor_perf_test = model_performance_regression(rf_tuned_regressor, x_test, y_test)\n",
        "\n",
        "rf_tuned_regressor_perf_test"
      ]
    },
    {
      "cell_type": "markdown",
      "metadata": {
        "id": "UuBDMDnxBq5i"
      },
      "source": [
        "**Observations:**\n",
        "\n",
        "- The performance of the tuned model is actually lower in comparison to the model with default parameters. \n",
        "- This might be because we have tried a very small number of hyperparameters and a small number of values due to computational limits. We can certainly try to improve the performance of the model by tuning the model further.   "
      ]
    },
    {
      "cell_type": "markdown",
      "metadata": {
        "id": "-BwR44Moo7zT"
      },
      "source": [
        "**Visualizing the feature importance**"
      ]
    },
    {
      "cell_type": "code",
      "execution_count": null,
      "metadata": {
        "colab": {
          "base_uri": "https://localhost:8080/",
          "height": 621
        },
        "id": "WpKYCHSAo619",
        "outputId": "010616a4-1755-4a87-f7b2-4a3be4a666d0"
      },
      "outputs": [
        {
          "data": {
            "image/png": "[encoded data removed]",
            "text/plain": [
              "<Figure size 720x720 with 1 Axes>"
            ]
          },
          "metadata": {
            "needs_background": "light"
          },
          "output_type": "display_data"
        }
      ],
      "source": [
        "# Plotting the feature importance\n",
        "importances = rf_tuned_regressor.feature_importances_\n",
        "indices = np.argsort(importances)\n",
        "\n",
        "plt.figure(figsize=(10,10))\n",
        "plt.title('Feature Importances')\n",
        "plt.barh(range(len(indices)), importances[indices], color='violet', align='center')\n",
        "plt.yticks(range(len(indices)), [features[i] for i in indices])\n",
        "plt.xlabel('Relative Importance')\n",
        "plt.show()"
      ]
    },
    {
      "cell_type": "markdown",
      "metadata": {
        "id": "CZ4kTc3IBq5j"
      },
      "source": [
        "**Observations:**\n",
        "\n",
        "- The top 3 important variables are the same as decision tree model. There are some other features like gender, and doctors adding some value to the model."
      ]
    },
    {
      "cell_type": "markdown",
      "metadata": {
        "id": "F_TAsHcN7f_O"
      },
      "source": [
        "**Model Performance Comparison**"
      ]
    },
    {
      "cell_type": "code",
      "execution_count": null,
      "metadata": {
        "colab": {
          "base_uri": "https://localhost:8080/",
          "height": 303
        },
        "id": "IU-67j8J7fUT",
        "outputId": "bda0aa5f-57ff-4901-eefc-36d6ff6c6ffe"
      },
      "outputs": [
        {
          "name": "stdout",
          "output_type": "stream",
          "text": [
            "Test performance comparison:\n"
          ]
        },
        {
          "data": {
            "text/html": [
              "<div>\n",
              "<style scoped>\n",
              "    .dataframe tbody tr th:only-of-type {\n",
              "        vertical-align: middle;\n",
              "    }\n",
              "\n",
              "    .dataframe tbody tr th {\n",
              "        vertical-align: top;\n",
              "    }\n",
              "\n",
              "    .dataframe thead th {\n",
              "        text-align: right;\n",
              "    }\n",
              "</style>\n",
              "<table border=\"1\" class=\"dataframe\">\n",
              "  <thead>\n",
              "    <tr style=\"text-align: right;\">\n",
              "      <th></th>\n",
              "      <th>Decision tree regressor</th>\n",
              "      <th>Random Forest regressor</th>\n",
              "      <th>Bagging regressor</th>\n",
              "      <th>Tuned Decision Tree regressor</th>\n",
              "      <th>Tuned Bagging Tree regressor</th>\n",
              "      <th>Tuned Random Forest Regressor</th>\n",
              "    </tr>\n",
              "  </thead>\n",
              "  <tbody>\n",
              "    <tr>\n",
              "      <th>RMSE</th>\n",
              "      <td>1.815150</td>\n",
              "      <td>1.303684</td>\n",
              "      <td>1.368940</td>\n",
              "      <td>1.741743</td>\n",
              "      <td>1.536988</td>\n",
              "      <td>1.722618</td>\n",
              "    </tr>\n",
              "    <tr>\n",
              "      <th>MAE</th>\n",
              "      <td>1.128290</td>\n",
              "      <td>0.865050</td>\n",
              "      <td>0.905205</td>\n",
              "      <td>1.161072</td>\n",
              "      <td>1.032587</td>\n",
              "      <td>1.156882</td>\n",
              "    </tr>\n",
              "    <tr>\n",
              "      <th>R-squared</th>\n",
              "      <td>0.947680</td>\n",
              "      <td>0.973011</td>\n",
              "      <td>0.970242</td>\n",
              "      <td>0.951826</td>\n",
              "      <td>0.962487</td>\n",
              "      <td>0.952878</td>\n",
              "    </tr>\n",
              "    <tr>\n",
              "      <th>Adj. R-squared</th>\n",
              "      <td>0.947658</td>\n",
              "      <td>0.973000</td>\n",
              "      <td>0.970229</td>\n",
              "      <td>0.951806</td>\n",
              "      <td>0.962471</td>\n",
              "      <td>0.952859</td>\n",
              "    </tr>\n",
              "    <tr>\n",
              "      <th>MAPE</th>\n",
              "      <td>9.341248</td>\n",
              "      <td>7.314995</td>\n",
              "      <td>7.648842</td>\n",
              "      <td>9.646680</td>\n",
              "      <td>8.952246</td>\n",
              "      <td>9.650161</td>\n",
              "    </tr>\n",
              "  </tbody>\n",
              "</table>\n",
              "</div>"
            ],
            "text/plain": [
              "                Decision tree regressor  Random Forest regressor  \\\n",
              "RMSE                           1.815150                 1.303684   \n",
              "MAE                            1.128290                 0.865050   \n",
              "R-squared                      0.947680                 0.973011   \n",
              "Adj. R-squared                 0.947658                 0.973000   \n",
              "MAPE                           9.341248                 7.314995   \n",
              "\n",
              "                Bagging regressor  Tuned Decision Tree regressor  \\\n",
              "RMSE                     1.368940                       1.741743   \n",
              "MAE                      0.905205                       1.161072   \n",
              "R-squared                0.970242                       0.951826   \n",
              "Adj. R-squared           0.970229                       0.951806   \n",
              "MAPE                     7.648842                       9.646680   \n",
              "\n",
              "                Tuned Bagging Tree regressor  Tuned Random Forest Regressor  \n",
              "RMSE                                1.536988                       1.722618  \n",
              "MAE                                 1.032587                       1.156882  \n",
              "R-squared                           0.962487                       0.952878  \n",
              "Adj. R-squared                      0.962471                       0.952859  \n",
              "MAPE                                8.952246                       9.650161  "
            ]
          },
          "execution_count": 64,
          "metadata": {},
          "output_type": "execute_result"
        }
      ],
      "source": [
        "models_test_comp_df = pd.concat(\n",
        "    [\n",
        "        dt_regressor_perf_test.T,\n",
        "        regressor_perf_test.T,\n",
        "        bagging_estimator_perf_test.T,\n",
        "        dtree_tuned_regressor_perf_test.T,\n",
        "        bagging_tuned_regressor_perf_test.T,\n",
        "        rf_tuned_regressor_perf_test.T\n",
        "    ],\n",
        "    axis=1,\n",
        ")\n",
        "\n",
        "models_test_comp_df.columns = [\n",
        "    \"Decision tree regressor\",\n",
        "    \"Random Forest regressor\",\n",
        "    \"Bagging regressor\",\n",
        "    \"Tuned Decision Tree regressor\",\n",
        "    \"Tuned Bagging Tree regressor\",\n",
        "    \"Tuned Random Forest Regressor\"]\n",
        "\n",
        "print(\"Test performance comparison:\")\n",
        "models_test_comp_df"
      ]
    },
    {
      "cell_type": "markdown",
      "metadata": {
        "id": "ekpGS2iPBq5l"
      },
      "source": [
        "**Observations:**\n",
        "\n",
        "- All the models give good performance in terms of RMSE and R-squared. \n",
        "- The bagging and random forest regressors perform better than a single decision tree.\n",
        "- The random forest model with default parameters is giving the best performance among all the trained models."
      ]
    },
    {
      "cell_type": "markdown",
      "metadata": {
        "id": "XR43ExubwV-n"
      },
      "source": [
        "### **Fitting the final chosen model**"
      ]
    },
    {
      "cell_type": "markdown",
      "metadata": {
        "id": "1oHyMjnZwWpx"
      },
      "source": [
        "- Final Model Building - Random Forest Regressor\n",
        "- We will consider Random Forest Regressor with default parameters as our final model."
      ]
    },
    {
      "cell_type": "code",
      "execution_count": null,
      "metadata": {
        "colab": {
          "base_uri": "https://localhost:8080/"
        },
        "id": "bmQYd6r_vxsz",
        "outputId": "c8ea8c7b-6dc3-44af-916f-ebd0e21cea36"
      },
      "outputs": [
        {
          "data": {
            "text/plain": [
              "RandomForestRegressor(random_state=1)"
            ]
          },
          "execution_count": 65,
          "metadata": {},
          "output_type": "execute_result"
        }
      ],
      "source": [
        "final_model = RandomForestRegressor(n_estimators = 100, random_state = 1)\n",
        "final_model.fit(x_train, y_train)"
      ]
    },
    {
      "cell_type": "code",
      "execution_count": null,
      "metadata": {
        "id": "LDAl8XtNvxu4"
      },
      "outputs": [],
      "source": [
        "final_model_perf_train = model_performance_regression(final_model, x_train, y_train)"
      ]
    },
    {
      "cell_type": "code",
      "execution_count": null,
      "metadata": {
        "colab": {
          "base_uri": "https://localhost:8080/",
          "height": 81
        },
        "id": "Mr9nsi1kzXh3",
        "outputId": "6e0cdee1-3365-4612-b510-8cf370c86408"
      },
      "outputs": [
        {
          "data": {
            "text/html": [
              "<div>\n",
              "<style scoped>\n",
              "    .dataframe tbody tr th:only-of-type {\n",
              "        vertical-align: middle;\n",
              "    }\n",
              "\n",
              "    .dataframe tbody tr th {\n",
              "        vertical-align: top;\n",
              "    }\n",
              "\n",
              "    .dataframe thead th {\n",
              "        text-align: right;\n",
              "    }\n",
              "</style>\n",
              "<table border=\"1\" class=\"dataframe\">\n",
              "  <thead>\n",
              "    <tr style=\"text-align: right;\">\n",
              "      <th></th>\n",
              "      <th>RMSE</th>\n",
              "      <th>MAE</th>\n",
              "      <th>R-squared</th>\n",
              "      <th>Adj. R-squared</th>\n",
              "      <th>MAPE</th>\n",
              "    </tr>\n",
              "  </thead>\n",
              "  <tbody>\n",
              "    <tr>\n",
              "      <th>0</th>\n",
              "      <td>0.487743</td>\n",
              "      <td>0.321099</td>\n",
              "      <td>0.996195</td>\n",
              "      <td>0.996195</td>\n",
              "      <td>2.71949</td>\n",
              "    </tr>\n",
              "  </tbody>\n",
              "</table>\n",
              "</div>"
            ],
            "text/plain": [
              "       RMSE       MAE  R-squared  Adj. R-squared     MAPE\n",
              "0  0.487743  0.321099   0.996195        0.996195  2.71949"
            ]
          },
          "execution_count": 67,
          "metadata": {},
          "output_type": "execute_result"
        }
      ],
      "source": [
        "final_model_perf_train"
      ]
    },
    {
      "cell_type": "markdown",
      "metadata": {
        "id": "HLv7Ihr9wz73"
      },
      "source": [
        "* Both the R-squared and the Adjusted R squared of the model are approx 99.6% on the training data. This indicates that the model is able to explain approx full variance in the target variable using the independent variables.\n",
        "\n",
        "* Let's do a quick performance check on the test data"
      ]
    },
    {
      "cell_type": "code",
      "execution_count": null,
      "metadata": {
        "colab": {
          "base_uri": "https://localhost:8080/",
          "height": 98
        },
        "id": "raTSMaGtvxwl",
        "outputId": "939d608f-1ddf-4e04-f943-34fee927cff9"
      },
      "outputs": [
        {
          "name": "stdout",
          "output_type": "stream",
          "text": [
            "Test Performance:\n"
          ]
        },
        {
          "data": {
            "text/html": [
              "<div>\n",
              "<style scoped>\n",
              "    .dataframe tbody tr th:only-of-type {\n",
              "        vertical-align: middle;\n",
              "    }\n",
              "\n",
              "    .dataframe tbody tr th {\n",
              "        vertical-align: top;\n",
              "    }\n",
              "\n",
              "    .dataframe thead th {\n",
              "        text-align: right;\n",
              "    }\n",
              "</style>\n",
              "<table border=\"1\" class=\"dataframe\">\n",
              "  <thead>\n",
              "    <tr style=\"text-align: right;\">\n",
              "      <th></th>\n",
              "      <th>RMSE</th>\n",
              "      <th>MAE</th>\n",
              "      <th>R-squared</th>\n",
              "      <th>Adj. R-squared</th>\n",
              "      <th>MAPE</th>\n",
              "    </tr>\n",
              "  </thead>\n",
              "  <tbody>\n",
              "    <tr>\n",
              "      <th>0</th>\n",
              "      <td>1.303684</td>\n",
              "      <td>0.86505</td>\n",
              "      <td>0.973011</td>\n",
              "      <td>0.973</td>\n",
              "      <td>7.314995</td>\n",
              "    </tr>\n",
              "  </tbody>\n",
              "</table>\n",
              "</div>"
            ],
            "text/plain": [
              "       RMSE      MAE  R-squared  Adj. R-squared      MAPE\n",
              "0  1.303684  0.86505   0.973011           0.973  7.314995"
            ]
          },
          "execution_count": 68,
          "metadata": {},
          "output_type": "execute_result"
        }
      ],
      "source": [
        "final_model_test_perf = model_performance_regression(regressor, x_test, y_test)\n",
        "print(\"Test Performance:\")\n",
        "final_model_test_perf"
      ]
    },
    {
      "cell_type": "markdown",
      "metadata": {
        "id": "mk02N6Q_w92q"
      },
      "source": [
        "* **The model gives a good performance on the test data as well** i.e. the model is giving a generalized performance.\n",
        "* The units of both RMSE and MAE are the same, days in this case. But RMSE is greater than MAE because it penalizes the outliers more.\n",
        "* **The MAE indicates that the model is able to predict the length of stay within a mean error of 1 day.**\n",
        "* **MAPE of 7.31 on the test data indicates that the model can predict within ~7% of the actual length of stay of patients.** It might be slightly higher because we have outliers in the data. "
      ]
    },
    {
      "cell_type": "markdown",
      "metadata": {
        "id": "Dpctb2GgwLAY"
      },
      "source": [
        "## **Observations**"
      ]
    },
    {
      "cell_type": "markdown",
      "metadata": {
        "id": "RRC6OfhlwByu"
      },
      "source": [
        "\n",
        "\n",
        "1.   The Random Forest Regressor model gives the best results. It is successful in capturing ~98% of variations in the test data.\n",
        "2.   MAE of 0.75 indicates that the model can succesfully predict the length of stay of a patient during admission with just an error of 1 day. \n",
        "3. Factors like visitors with **patient** and **admission deposit** plays an important role in the prediction.\n",
        "4. Factors like **staff_available** and **extra rooms** has very less to do with the predition from the model.\n",
        "\n"
      ]
    },
    {
      "cell_type": "markdown",
      "metadata": {
        "id": "mYlv2xRvvzFr"
      },
      "source": [
        "## **Business Insights and Recommendations**"
      ]
    },
    {
      "cell_type": "markdown",
      "metadata": {
        "id": "UPhjEiZ8v1Ub"
      },
      "source": [
        "- Gynecology is the busiest department of the hospital and it handles 68.7% of the total number of patients. It needs ample resources and staff for the smooth functioning of the department.\n",
        "- The number of visitors with the patients highly influences the length of stay of a patient. The maximum number of visitors can go up to 32 which is very high. A restriction can be imposed on this.\n",
        "- 74.2% of the patients are female. Thus, resources need to be procured while keeping this figure in mind.\n",
        "- A large number of patients (89.3%) of the patients are in trauma or emergency during admission. An increase in ambulances and emergency rooms can reduce the risk of casualties.\n",
        "- Ward A has the patients who stay for the longest and the most serious patients. These wards can be equipped with more resources and staff to reduce the length of stay of these patients.\n",
        "- Elderly patients (51-100) and children (1-10) stay for the longest. Extra attention to these age groups can lead to a faster discharge from the hospital.\n",
        "- Wards D, E, and C have the most visitors with a patient. These wards will need more space and amenities like washrooms, shops, and lobbies for the visitors. Spaces can also be rented out to shop owners and advertisements to generate extra income.\n",
        "- Finally, the Random Forest Regressor can predict the length of stay of the patient with just an error of 1 day. The hospital can use these predictions to allocate the resources and staff accordingly and reduce any kind of wastage. The hospital can also allocate the wards and doctors accordingly to optimize admissions even during emergencies."
      ]
    },
    {
      "cell_type": "markdown",
      "metadata": {
        "id": "-NCsvoPRS5rZ"
      },
      "source": [
        "## **Additional Content**\n",
        "\n",
        "## **Boosting Models**\n",
        "\n",
        "Let's now look at Boosting models, which along with Bagging models, are the state-of-the-art in Ensemble Machine Learning."
      ]
    },
    {
      "cell_type": "markdown",
      "metadata": {
        "id": "cbgGiDdslXUn"
      },
      "source": [
        "### **XGBoost**\n",
        "- XGBoost stands for Extreme Gradient Boosting.\n",
        "- XGBoost is a tree-based ensemble machine learning technique that improves prediction power and performance by improvising on the Gradient Boosting framework and incorporating some reliable approximation algorithms. It is widely utilized and routinely appears at the top of competition leaderboards in data science.\n"
      ]
    },
    {
      "cell_type": "code",
      "execution_count": null,
      "metadata": {
        "id": "eEI6-ZDoYkw8"
      },
      "outputs": [],
      "source": [
        "# Installing the xgboost library using \"pip' command.\n",
        "!pip install xgboost"
      ]
    },
    {
      "cell_type": "code",
      "execution_count": null,
      "metadata": {
        "id": "hky6XMUzYi0S"
      },
      "outputs": [],
      "source": [
        "# Importing the Random Forest Regressor and Bagging Regressor [Bagging]\n",
        "from sklearn.ensemble import RandomForestRegressor, BaggingRegressor\n",
        "\n",
        "# Importing the AdaBoostRegressor and GradientBoostingRegressor [Boosting]\n",
        "from sklearn.ensemble import AdaBoostRegressor, GradientBoostingRegressor\n",
        "\n",
        "# Importing the XGBReressor from the xgboost\n",
        "from xgboost import XGBRegressor"
      ]
    },
    {
      "cell_type": "code",
      "execution_count": null,
      "metadata": {
        "colab": {
          "base_uri": "https://localhost:8080/",
          "height": 81
        },
        "id": "cbXxkU2dmNym",
        "outputId": "e492e7b0-e10c-4a02-9950-78e2112a424f"
      },
      "outputs": [
        {
          "data": {
            "text/html": [
              "<div>\n",
              "<style scoped>\n",
              "    .dataframe tbody tr th:only-of-type {\n",
              "        vertical-align: middle;\n",
              "    }\n",
              "\n",
              "    .dataframe tbody tr th {\n",
              "        vertical-align: top;\n",
              "    }\n",
              "\n",
              "    .dataframe thead th {\n",
              "        text-align: right;\n",
              "    }\n",
              "</style>\n",
              "<table border=\"1\" class=\"dataframe\">\n",
              "  <thead>\n",
              "    <tr style=\"text-align: right;\">\n",
              "      <th></th>\n",
              "      <th>RMSE</th>\n",
              "      <th>MAE</th>\n",
              "      <th>R-squared</th>\n",
              "      <th>Adj. R-squared</th>\n",
              "      <th>MAPE</th>\n",
              "    </tr>\n",
              "  </thead>\n",
              "  <tbody>\n",
              "    <tr>\n",
              "      <th>0</th>\n",
              "      <td>2.375388</td>\n",
              "      <td>1.58689</td>\n",
              "      <td>0.910399</td>\n",
              "      <td>0.910362</td>\n",
              "      <td>13.623722</td>\n",
              "    </tr>\n",
              "  </tbody>\n",
              "</table>\n",
              "</div>"
            ],
            "text/plain": [
              "       RMSE      MAE  R-squared  Adj. R-squared       MAPE\n",
              "0  2.375388  1.58689   0.910399        0.910362  13.623722"
            ]
          },
          "execution_count": 52,
          "metadata": {},
          "output_type": "execute_result"
        }
      ],
      "source": [
        "# Adaboost Regressor\n",
        "adaboost_model = AdaBoostRegressor(random_state=1)\n",
        "\n",
        "# Fitting the model\n",
        "adaboost_model.fit(x_train,y_train)\n",
        "\n",
        "# Model Performance on test data i.e prediction\n",
        "adaboost_model_perf_test = model_performance_regression(adaboost_model, x_test, y_test)\n",
        "\n",
        "adaboost_model_perf_test"
      ]
    },
    {
      "cell_type": "code",
      "execution_count": null,
      "metadata": {
        "id": "quTWFI5eornN"
      },
      "outputs": [],
      "source": [
        "# Gradient Boost Regressor\n",
        "gbc = GradientBoostingRegressor(random_state=1)\n",
        "gbc.fit(x_train,y_train)\n",
        "gbc_perf_test = model_performance_regression(gbc, x_test, y_test)"
      ]
    },
    {
      "cell_type": "code",
      "execution_count": null,
      "metadata": {
        "colab": {
          "base_uri": "https://localhost:8080/",
          "height": 81
        },
        "id": "n4ioVaEhVL6T",
        "outputId": "a062de54-752a-4e06-8a65-b2abc7c2e797"
      },
      "outputs": [
        {
          "data": {
            "text/html": [
              "<div>\n",
              "<style scoped>\n",
              "    .dataframe tbody tr th:only-of-type {\n",
              "        vertical-align: middle;\n",
              "    }\n",
              "\n",
              "    .dataframe tbody tr th {\n",
              "        vertical-align: top;\n",
              "    }\n",
              "\n",
              "    .dataframe thead th {\n",
              "        text-align: right;\n",
              "    }\n",
              "</style>\n",
              "<table border=\"1\" class=\"dataframe\">\n",
              "  <thead>\n",
              "    <tr style=\"text-align: right;\">\n",
              "      <th></th>\n",
              "      <th>RMSE</th>\n",
              "      <th>MAE</th>\n",
              "      <th>R-squared</th>\n",
              "      <th>Adj. R-squared</th>\n",
              "      <th>MAPE</th>\n",
              "    </tr>\n",
              "  </thead>\n",
              "  <tbody>\n",
              "    <tr>\n",
              "      <th>0</th>\n",
              "      <td>1.792721</td>\n",
              "      <td>1.212749</td>\n",
              "      <td>0.948965</td>\n",
              "      <td>0.948944</td>\n",
              "      <td>10.247284</td>\n",
              "    </tr>\n",
              "  </tbody>\n",
              "</table>\n",
              "</div>"
            ],
            "text/plain": [
              "       RMSE       MAE  R-squared  Adj. R-squared       MAPE\n",
              "0  1.792721  1.212749   0.948965        0.948944  10.247284"
            ]
          },
          "execution_count": 54,
          "metadata": {},
          "output_type": "execute_result"
        }
      ],
      "source": [
        "gbc_perf_test"
      ]
    },
    {
      "cell_type": "code",
      "execution_count": null,
      "metadata": {
        "id": "xPyN6_CVoxYy"
      },
      "outputs": [],
      "source": [
        "# XGBoost Regressor\n",
        "xgb = XGBRegressor(random_state=1, eval_metric='logloss')\n",
        "xgb.fit(x_train,y_train)\n",
        "xgb_perf_test = model_performance_regression(xgb, x_test, y_test)\n"
      ]
    },
    {
      "cell_type": "code",
      "execution_count": null,
      "metadata": {
        "colab": {
          "base_uri": "https://localhost:8080/",
          "height": 81
        },
        "id": "RkmdwbaKVRim",
        "outputId": "45209ade-445f-4d52-cbb5-ebfdbd46c21d"
      },
      "outputs": [
        {
          "data": {
            "text/html": [
              "<div>\n",
              "<style scoped>\n",
              "    .dataframe tbody tr th:only-of-type {\n",
              "        vertical-align: middle;\n",
              "    }\n",
              "\n",
              "    .dataframe tbody tr th {\n",
              "        vertical-align: top;\n",
              "    }\n",
              "\n",
              "    .dataframe thead th {\n",
              "        text-align: right;\n",
              "    }\n",
              "</style>\n",
              "<table border=\"1\" class=\"dataframe\">\n",
              "  <thead>\n",
              "    <tr style=\"text-align: right;\">\n",
              "      <th></th>\n",
              "      <th>RMSE</th>\n",
              "      <th>MAE</th>\n",
              "      <th>R-squared</th>\n",
              "      <th>Adj. R-squared</th>\n",
              "      <th>MAPE</th>\n",
              "    </tr>\n",
              "  </thead>\n",
              "  <tbody>\n",
              "    <tr>\n",
              "      <th>0</th>\n",
              "      <td>1.510606</td>\n",
              "      <td>1.033003</td>\n",
              "      <td>0.963764</td>\n",
              "      <td>0.963748</td>\n",
              "      <td>8.867275</td>\n",
              "    </tr>\n",
              "  </tbody>\n",
              "</table>\n",
              "</div>"
            ],
            "text/plain": [
              "       RMSE       MAE  R-squared  Adj. R-squared      MAPE\n",
              "0  1.510606  1.033003   0.963764        0.963748  8.867275"
            ]
          },
          "execution_count": 56,
          "metadata": {},
          "output_type": "execute_result"
        }
      ],
      "source": [
        "xgb_perf_test"
      ]
    },
    {
      "cell_type": "markdown",
      "metadata": {
        "id": "Wal3dM_29yLW"
      },
      "source": [
        "### **Hyperparameter Tuning: Boosting**\n",
        "\n",
        "Hyperparameter tuning is a great technique in machine learning to develop the model that has the optimal parameters for that dataset. If the size of the data increases, the computation time will also increase during training process.\n",
        "\n",
        "For practice purposes, we have listed below some of the important hyperparameters for each algorithm that can be tuned to improve the model performance."
      ]
    },
    {
      "cell_type": "markdown",
      "metadata": {
        "id": "btmWTNY26aRq"
      },
      "source": [
        "\n",
        "**1. Adaboost**\n",
        "- Some important hyperparameters that can be tuned:\n",
        "  - **base_estimator** object, default=None\n",
        "The base estimator from which the boosted ensemble is built. If None, then the base estimator is DecisionTreeRegressor initialized with max_depth=3.\n",
        "  - **n_estimators** int, default=50\n",
        "  The maximum number of estimators at which boosting is terminated. In the case of a perfect fit, the learning procedure is stopped early.\n",
        "  - **loss :** {‘linear’, ‘square’, ‘exponential’}, default=’linear’\n",
        "The loss function to use when updating the weights after each boosting iteration.\n",
        " - **learning_rate** float, default=1.0\n",
        "Weight applied to each regressor at each boosting iteration. A higher learning rate increases the contribution of each regressor.\n",
        "\n",
        "**2. Gradient Boost**\n",
        "- Some important hyperparameters that can be tuned:\n",
        "   - **n_estimators**: the number of boosting stages that will be performed.\n",
        "\n",
        " - **max_depth**: limits the number of nodes in the tree. The best value depends on the interaction of the input variables.\n",
        "\n",
        "  - **min_samples_split**: the minimum number of samples required to split an internal node.\n",
        "\n",
        "  - **learning_rate**: how much the contribution of each tree will shrink.\n",
        "\n",
        "  - **loss**: loss function to optimize. \n",
        "\n",
        "For a better understanding of each parameter in the Gradient Boosting Regressor, please refer to this [source](https://scikit-learn.org/stable/modules/generated/sklearn.ensemble.GradientBoostingRegressor.html#sklearn.ensemble.GradientBoostingRegressor).\n",
        "\n",
        "\n",
        "\n",
        "**3. XGBoost**\n",
        "- Some important hyperparameters that can be tuned:\n",
        "  - **booster** [default= gbtree ] Which booster to use. Can be gbtree, gblinear or dart; gbtree and dart use tree-based models while gblinear uses linear functions.\n",
        "  - **min_child_weight** [default=1]\n",
        "\n",
        "    The minimum sum of instance weight (hessian) needed in a child. If the tree partition step results in a leaf node with the sum of instance weight less than min_child_weight, then the building process will give up further partitioning. In the linear regression task, this simply corresponds to the minimum number of instances needed to be in each node. The larger min_child_weight is, the more conservative the algorithm will be.\n",
        "\n",
        "  For a better understanding of each parameter in the XGBoost Regressor, please refer to this [source](https://xgboost.readthedocs.io/en/stable/parameter.html)."
      ]
    },
    {
      "cell_type": "markdown",
      "metadata": {
        "id": "icuGOdgBg9ZL"
      },
      "source": [
        "### **Comparison of all the models we have built so far**"
      ]
    },
    {
      "cell_type": "code",
      "execution_count": null,
      "metadata": {
        "id": "QU4hsMH4d_tk",
        "outputId": "b503aa5d-8a06-45a7-d6ef-6c8b72912b3b"
      },
      "outputs": [
        {
          "name": "stdout",
          "output_type": "stream",
          "text": [
            "Test performance comparison:\n"
          ]
        }
      ],
      "source": [
        "models_test_comp_df = pd.concat(\n",
        "    [\n",
        "        \n",
        "        dt_regressor_perf_test.T,\n",
        "        regressor_perf_test.T,\n",
        "        bagging_estimator_perf_test.T,\n",
        "        adaboost_model_perf_test.T,\n",
        "        gbc_perf_test.T,\n",
        "        xgb_perf_test.T\n",
        "\n",
        "    ],\n",
        "    axis=1,\n",
        ")\n",
        "\n",
        "models_test_comp_df.columns = [\n",
        " \n",
        "    \"Decision tree regressor\",\n",
        "    \"Random Forest regressor\",\n",
        "    \"Bagging regressor\",\n",
        "    \"Adaboost regressor\",\n",
        "    \"Gradientboost regressor\",\n",
        "    \"XGBoost regressor\"\n",
        "]\n",
        "\n",
        "print(\"Test performance comparison:\")"
      ]
    },
    {
      "cell_type": "code",
      "execution_count": null,
      "metadata": {
        "colab": {
          "base_uri": "https://localhost:8080/",
          "height": 250
        },
        "id": "oEHFbSbZVYHF",
        "outputId": "4d45ab32-a03e-4265-9127-eb8cd6c4149f"
      },
      "outputs": [
        {
          "data": {
            "text/html": [
              "<div>\n",
              "<style scoped>\n",
              "    .dataframe tbody tr th:only-of-type {\n",
              "        vertical-align: middle;\n",
              "    }\n",
              "\n",
              "    .dataframe tbody tr th {\n",
              "        vertical-align: top;\n",
              "    }\n",
              "\n",
              "    .dataframe thead th {\n",
              "        text-align: right;\n",
              "    }\n",
              "</style>\n",
              "<table border=\"1\" class=\"dataframe\">\n",
              "  <thead>\n",
              "    <tr style=\"text-align: right;\">\n",
              "      <th></th>\n",
              "      <th>Decision tree regressor</th>\n",
              "      <th>Random Forest regressor</th>\n",
              "      <th>Bagging regressor</th>\n",
              "      <th>Adaboost regressor</th>\n",
              "      <th>Gradientboost regressor</th>\n",
              "      <th>XGBoost regressor</th>\n",
              "    </tr>\n",
              "  </thead>\n",
              "  <tbody>\n",
              "    <tr>\n",
              "      <th>RMSE</th>\n",
              "      <td>1.815720</td>\n",
              "      <td>1.303579</td>\n",
              "      <td>1.368940</td>\n",
              "      <td>2.375388</td>\n",
              "      <td>1.792721</td>\n",
              "      <td>1.510606</td>\n",
              "    </tr>\n",
              "    <tr>\n",
              "      <th>MAE</th>\n",
              "      <td>1.129500</td>\n",
              "      <td>0.864338</td>\n",
              "      <td>0.905205</td>\n",
              "      <td>1.586890</td>\n",
              "      <td>1.212749</td>\n",
              "      <td>1.033003</td>\n",
              "    </tr>\n",
              "    <tr>\n",
              "      <th>R-squared</th>\n",
              "      <td>0.947647</td>\n",
              "      <td>0.973015</td>\n",
              "      <td>0.970242</td>\n",
              "      <td>0.910399</td>\n",
              "      <td>0.948965</td>\n",
              "      <td>0.963764</td>\n",
              "    </tr>\n",
              "    <tr>\n",
              "      <th>Adj. R-squared</th>\n",
              "      <td>0.947625</td>\n",
              "      <td>0.973004</td>\n",
              "      <td>0.970229</td>\n",
              "      <td>0.910362</td>\n",
              "      <td>0.948944</td>\n",
              "      <td>0.963748</td>\n",
              "    </tr>\n",
              "    <tr>\n",
              "      <th>MAPE</th>\n",
              "      <td>9.339586</td>\n",
              "      <td>7.310845</td>\n",
              "      <td>7.648842</td>\n",
              "      <td>13.623722</td>\n",
              "      <td>10.247284</td>\n",
              "      <td>8.867275</td>\n",
              "    </tr>\n",
              "  </tbody>\n",
              "</table>\n",
              "</div>"
            ],
            "text/plain": [
              "                Decision tree regressor  Random Forest regressor  \\\n",
              "RMSE                           1.815720                 1.303579   \n",
              "MAE                            1.129500                 0.864338   \n",
              "R-squared                      0.947647                 0.973015   \n",
              "Adj. R-squared                 0.947625                 0.973004   \n",
              "MAPE                           9.339586                 7.310845   \n",
              "\n",
              "                Bagging regressor  Adaboost regressor  \\\n",
              "RMSE                     1.368940            2.375388   \n",
              "MAE                      0.905205            1.586890   \n",
              "R-squared                0.970242            0.910399   \n",
              "Adj. R-squared           0.970229            0.910362   \n",
              "MAPE                     7.648842           13.623722   \n",
              "\n",
              "                Gradientboost regressor  XGBoost regressor  \n",
              "RMSE                           1.792721           1.510606  \n",
              "MAE                            1.212749           1.033003  \n",
              "R-squared                      0.948965           0.963764  \n",
              "Adj. R-squared                 0.948944           0.963748  \n",
              "MAPE                          10.247284           8.867275  "
            ]
          },
          "execution_count": 58,
          "metadata": {},
          "output_type": "execute_result"
        }
      ],
      "source": [
        "models_test_comp_df"
      ]
    },
    {
      "cell_type": "markdown",
      "metadata": {
        "id": "NxMEPVeETRpV"
      },
      "source": [
        "**Observations :**\n",
        "\n",
        "* With default parameters, the bagging methods outperform the boosting methods.\n",
        "* The Random Forest Regressor is the model that gives the best score for this dataset."
      ]
    }
  ],
  "metadata": {
    "accelerator": "GPU",
    "colab": {
      "collapsed_sections": [
        "vh6pbSWLJ7pT",
        "uUEuNqtbPVT0",
        "wTHU4IPogofK",
        "gU_-9VCyskuV",
        "jeEmAqhGBlQ3",
        "zwYRba3GCmMR",
        "dnawqWwiDGAN",
        "n5PnzTiBuJA5",
        "fTjAF7lA2A9v",
        "wwDclxhA8ply",
        "J0Nkflof9xLs",
        "sa8z6Ric93Qc",
        "lkXRAKBseIfT",
        "3h_IMznmkhTg",
        "eZg2DYmNeQ-2",
        "3u0gWZX1obu7",
        "XR43ExubwV-n",
        "Dpctb2GgwLAY",
        "mYlv2xRvvzFr",
        "-NCsvoPRS5rZ",
        "cbgGiDdslXUn",
        "Wal3dM_29yLW",
        "icuGOdgBg9ZL"
      ],
      "name": "Hospital LOS Prediction.ipynb",
      "provenance": []
    },
    "kernelspec": {
      "display_name": "Python 3 (ipykernel)",
      "language": "python",
      "name": "python3"
    },
    "language_info": {
      "codemirror_mode": {
        "name": "ipython",
        "version": 3
      },
      "file_extension": ".py",
      "mimetype": "text/x-python",
      "name": "python",
      "nbconvert_exporter": "python",
      "pygments_lexer": "ipython3",
      "version": "3.9.7"
    }
  },
  "nbformat": 4,
  "nbformat_minor": 0
}